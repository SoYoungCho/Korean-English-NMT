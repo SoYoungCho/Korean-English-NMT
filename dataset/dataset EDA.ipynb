{
 "cells": [
  {
   "cell_type": "markdown",
   "metadata": {},
   "source": [
    "## 1. 데이터 불러오기"
   ]
  },
  {
   "cell_type": "code",
   "execution_count": 8,
   "metadata": {},
   "outputs": [],
   "source": [
    "import pandas as pd\n",
    "import matplotlib.pyplot as plt\n",
    "import seaborn as sns\n",
    "import random"
   ]
  },
  {
   "cell_type": "code",
   "execution_count": 15,
   "metadata": {},
   "outputs": [],
   "source": [
    "data1 = pd.read_csv('C:/Users/Soyoung Cho/Desktop/NMT Project/dataset/train.csv')\n",
    "data2 = pd.read_csv('C:/Users/Soyoung Cho/Desktop/NMT Project/dataset/test.csv')\n",
    "data3 = pd.read_csv('C:/Users/Soyoung Cho/Desktop/NMT Project/dataset/tatoeba_data.csv')"
   ]
  },
  {
   "cell_type": "code",
   "execution_count": 16,
   "metadata": {},
   "outputs": [],
   "source": [
    "data = pd.concat([data1, data2, data3])"
   ]
  },
  {
   "cell_type": "code",
   "execution_count": 17,
   "metadata": {},
   "outputs": [],
   "source": [
    "data = data.reset_index(drop=True) # 0~20만, 0~20만 이런 인덱스까지 concat 되었던 것을 초기화, 다시 인덱스 주었다"
   ]
  },
  {
   "cell_type": "code",
   "execution_count": 18,
   "metadata": {},
   "outputs": [
    {
     "data": {
      "text/html": [
       "<div>\n",
       "<style scoped>\n",
       "    .dataframe tbody tr th:only-of-type {\n",
       "        vertical-align: middle;\n",
       "    }\n",
       "\n",
       "    .dataframe tbody tr th {\n",
       "        vertical-align: top;\n",
       "    }\n",
       "\n",
       "    .dataframe thead th {\n",
       "        text-align: right;\n",
       "    }\n",
       "</style>\n",
       "<table border=\"1\" class=\"dataframe\">\n",
       "  <thead>\n",
       "    <tr style=\"text-align: right;\">\n",
       "      <th></th>\n",
       "      <th>Korean</th>\n",
       "      <th>English</th>\n",
       "    </tr>\n",
       "  </thead>\n",
       "  <tbody>\n",
       "    <tr>\n",
       "      <td>0</td>\n",
       "      <td>경기도가 평화시대를 맞아 통일문제를 보다 쉽고 재미있게 다가갈 수 있도록 통일전문 ...</td>\n",
       "      <td>Gyeonggi-do Province will collaborate with the...</td>\n",
       "    </tr>\n",
       "    <tr>\n",
       "      <td>1</td>\n",
       "      <td>우선 현재 강원 동해안을 제외한 중부 지방과 호남 서해안에 약하게 눈이 내리거나 눈...</td>\n",
       "      <td>First of all, it is currently snowing slightly...</td>\n",
       "    </tr>\n",
       "    <tr>\n",
       "      <td>2</td>\n",
       "      <td>아직 구체적인 의제가 확정된 것은 아니지만 지난 19일 한미 국방부가 발표한 UFG...</td>\n",
       "      <td>The specific agenda has not been decided yet, ...</td>\n",
       "    </tr>\n",
       "    <tr>\n",
       "      <td>3</td>\n",
       "      <td>이시기의 남자아이에게는 레고 시티나 레고 닌자고 시리즈를 추천합니다.</td>\n",
       "      <td>Lego City and the series Lego Ninjago are reco...</td>\n",
       "    </tr>\n",
       "    <tr>\n",
       "      <td>4</td>\n",
       "      <td>손 대표로선 이날 지도부 회의에서 최고위원들을 중심으로 “사퇴하라”는 요구가 나온 ...</td>\n",
       "      <td>The representive Sohn apparently chose to make...</td>\n",
       "    </tr>\n",
       "    <tr>\n",
       "      <td>...</td>\n",
       "      <td>...</td>\n",
       "      <td>...</td>\n",
       "    </tr>\n",
       "    <tr>\n",
       "      <td>1606021</td>\n",
       "      <td>내일 와.</td>\n",
       "      <td>Come tomorrow.</td>\n",
       "    </tr>\n",
       "    <tr>\n",
       "      <td>1606022</td>\n",
       "      <td>나도 너랑 같은 처지야.</td>\n",
       "      <td>I'm in the same boat as you.</td>\n",
       "    </tr>\n",
       "    <tr>\n",
       "      <td>1606023</td>\n",
       "      <td>내가 끔찍한 실수를 저지른 것 같아.</td>\n",
       "      <td>I think I've made a horrible mistake.</td>\n",
       "    </tr>\n",
       "    <tr>\n",
       "      <td>1606024</td>\n",
       "      <td>그 사람은 자기 이름을 싸인하는 법조차 몰라.</td>\n",
       "      <td>He does not even know how to sign his name.</td>\n",
       "    </tr>\n",
       "    <tr>\n",
       "      <td>1606025</td>\n",
       "      <td>톰은 메리라는 캐나다 여성이랑 결혼했어.</td>\n",
       "      <td>Tom is married to a Canadian woman named Mary.</td>\n",
       "    </tr>\n",
       "  </tbody>\n",
       "</table>\n",
       "<p>1606026 rows × 2 columns</p>\n",
       "</div>"
      ],
      "text/plain": [
       "                                                    Korean  \\\n",
       "0        경기도가 평화시대를 맞아 통일문제를 보다 쉽고 재미있게 다가갈 수 있도록 통일전문 ...   \n",
       "1        우선 현재 강원 동해안을 제외한 중부 지방과 호남 서해안에 약하게 눈이 내리거나 눈...   \n",
       "2        아직 구체적인 의제가 확정된 것은 아니지만 지난 19일 한미 국방부가 발표한 UFG...   \n",
       "3                   이시기의 남자아이에게는 레고 시티나 레고 닌자고 시리즈를 추천합니다.   \n",
       "4        손 대표로선 이날 지도부 회의에서 최고위원들을 중심으로 “사퇴하라”는 요구가 나온 ...   \n",
       "...                                                    ...   \n",
       "1606021                                              내일 와.   \n",
       "1606022                                      나도 너랑 같은 처지야.   \n",
       "1606023                               내가 끔찍한 실수를 저지른 것 같아.   \n",
       "1606024                          그 사람은 자기 이름을 싸인하는 법조차 몰라.   \n",
       "1606025                             톰은 메리라는 캐나다 여성이랑 결혼했어.   \n",
       "\n",
       "                                                   English  \n",
       "0        Gyeonggi-do Province will collaborate with the...  \n",
       "1        First of all, it is currently snowing slightly...  \n",
       "2        The specific agenda has not been decided yet, ...  \n",
       "3        Lego City and the series Lego Ninjago are reco...  \n",
       "4        The representive Sohn apparently chose to make...  \n",
       "...                                                    ...  \n",
       "1606021                                     Come tomorrow.  \n",
       "1606022                       I'm in the same boat as you.  \n",
       "1606023              I think I've made a horrible mistake.  \n",
       "1606024        He does not even know how to sign his name.  \n",
       "1606025     Tom is married to a Canadian woman named Mary.  \n",
       "\n",
       "[1606026 rows x 2 columns]"
      ]
     },
     "execution_count": 18,
     "metadata": {},
     "output_type": "execute_result"
    }
   ],
   "source": [
    "data"
   ]
  },
  {
   "cell_type": "code",
   "execution_count": 21,
   "metadata": {},
   "outputs": [
    {
     "name": "stdout",
     "output_type": "stream",
     "text": [
      "['경기도가 평화시대를 맞아 통일문제를 보다 쉽고 재미있게 다가갈 수 있도록 통일전문 팟캐스트 <남북상열지사>와 콜라보레이션을 진행한다.', '우선 현재 강원 동해안을 제외한 중부 지방과 호남 서해안에 약하게 눈이 내리거나 눈발이 조금 날리고 있습니다.', '아직 구체적인 의제가 확정된 것은 아니지만 지난 19일 한미 국방부가 발표한 UFG 연합훈련중단에 따른 세부협의를 진행할 것으로 관측된다.', '이시기의 남자아이에게는 레고 시티나 레고 닌자고 시리즈를 추천합니다.', '손 대표로선 이날 지도부 회의에서 최고위원들을 중심으로 “사퇴하라”는 요구가 나온 가운데 정면 돌파를 택한 셈이다.']\n",
      "\n",
      "\n",
      "['Gyeonggi-do Province will collaborate with the unification special podcast <Love Song Between North and South Korea> in order to approach the issue of unification in easier and more fun ways in the time of peace.', 'First of all, it is currently snowing slightly or snow flutters lightly son the central region and the west coast of Honam except the east coast of Gangwon.', 'The specific agenda has not been decided yet, but it is expected to proceed with detailed consultations following the suspension of the UFG coalition training announced by the US Department of Defense on the 19th.', 'Lego City and the series Lego Ninjago are recommended to the boys of this age.', 'The representive Sohn apparently chose to make a head-on breakthrough during the leadership meeting amid the calls for his resignation led by the supreme council members.']\n"
     ]
    }
   ],
   "source": [
    "Kor_list = list(data['Korean']) #모든 한글 문장이 담긴 리스트\n",
    "Eng_list = list(data['English']) #모든 영어 문장이 담긴 리스트\n",
    "\n",
    "print(Kor_list[:5])\n",
    "print(\"\\n\")\n",
    "print(Eng_list[:5])"
   ]
  },
  {
   "cell_type": "code",
   "execution_count": 22,
   "metadata": {},
   "outputs": [],
   "source": [
    "result = list(zip(Kor_list,Eng_list))\n",
    "\n",
    "random.shuffle(result)\n",
    "result \n",
    "\n",
    "Kor_list, Eng_list = zip(*result)"
   ]
  },
  {
   "cell_type": "code",
   "execution_count": 23,
   "metadata": {},
   "outputs": [],
   "source": [
    "dict_ = {\"Korean\": [], \"English\" : []}\n",
    "dict_[\"Korean\"] = Kor_list\n",
    "dict_[\"English\"] = Eng_list"
   ]
  },
  {
   "cell_type": "code",
   "execution_count": 24,
   "metadata": {},
   "outputs": [
    {
     "data": {
      "text/html": [
       "<div>\n",
       "<style scoped>\n",
       "    .dataframe tbody tr th:only-of-type {\n",
       "        vertical-align: middle;\n",
       "    }\n",
       "\n",
       "    .dataframe tbody tr th {\n",
       "        vertical-align: top;\n",
       "    }\n",
       "\n",
       "    .dataframe thead th {\n",
       "        text-align: right;\n",
       "    }\n",
       "</style>\n",
       "<table border=\"1\" class=\"dataframe\">\n",
       "  <thead>\n",
       "    <tr style=\"text-align: right;\">\n",
       "      <th></th>\n",
       "      <th>Korean</th>\n",
       "      <th>English</th>\n",
       "    </tr>\n",
       "  </thead>\n",
       "  <tbody>\n",
       "    <tr>\n",
       "      <td>0</td>\n",
       "      <td>어릴 때 창의성을 가지는 게 가장 중요해요.</td>\n",
       "      <td>It is the most important thing to have creativ...</td>\n",
       "    </tr>\n",
       "    <tr>\n",
       "      <td>1</td>\n",
       "      <td>집안 곳곳에 일명 ‘몰래카메라’를 설치해 자신의 집을 방문한 여성들을 10년간 불법...</td>\n",
       "      <td>The son of a major pharmaceutical company, who...</td>\n",
       "    </tr>\n",
       "    <tr>\n",
       "      <td>2</td>\n",
       "      <td>그렇게 하면 우리가 보호해 줄 수 있게 되거든.</td>\n",
       "      <td>By doing that, we are able to protect you.</td>\n",
       "    </tr>\n",
       "    <tr>\n",
       "      <td>3</td>\n",
       "      <td>말레이시아의 정체성 안에서 전통의 주된 줄기는 보존하되, 시대에 맞는 창의적 전통음...</td>\n",
       "      <td>Though the major root of tradition needs to be...</td>\n",
       "    </tr>\n",
       "    <tr>\n",
       "      <td>4</td>\n",
       "      <td>이어 열린의사회 소속 전문상담사가 문자를 통한 상담을 실시한다.</td>\n",
       "      <td>Then a professional counselor from the Medical...</td>\n",
       "    </tr>\n",
       "    <tr>\n",
       "      <td>...</td>\n",
       "      <td>...</td>\n",
       "      <td>...</td>\n",
       "    </tr>\n",
       "    <tr>\n",
       "      <td>1606021</td>\n",
       "      <td>손혜원 더불어민주당 의원의 목포 부동산 투기 의혹과 서영교 의원의 재판 청탁 의혹을...</td>\n",
       "      <td>The scandal is growing over allegations that S...</td>\n",
       "    </tr>\n",
       "    <tr>\n",
       "      <td>1606022</td>\n",
       "      <td>친구와 포도주는 오래될수록 좋습니다.</td>\n",
       "      <td>Friends and wines get better with age.</td>\n",
       "    </tr>\n",
       "    <tr>\n",
       "      <td>1606023</td>\n",
       "      <td>저는 혜영이와 만난 하루하루를 소중히 여기며 언제나 기억하고 있어요.</td>\n",
       "      <td>I appreciate and remember every moments since ...</td>\n",
       "    </tr>\n",
       "    <tr>\n",
       "      <td>1606024</td>\n",
       "      <td>당신이 이 이슈에 대해 알고 싶으면 메시지를 보내주세요.</td>\n",
       "      <td>Please send me a message if you want to learn ...</td>\n",
       "    </tr>\n",
       "    <tr>\n",
       "      <td>1606025</td>\n",
       "      <td>실제 한국감정원 조사에서 수도권은 서울 강북과 개발호재가 있는 일부 지역 상승 영향...</td>\n",
       "      <td>In fact, in a survey conducted by the Korea Ap...</td>\n",
       "    </tr>\n",
       "  </tbody>\n",
       "</table>\n",
       "<p>1606026 rows × 2 columns</p>\n",
       "</div>"
      ],
      "text/plain": [
       "                                                    Korean  \\\n",
       "0                                 어릴 때 창의성을 가지는 게 가장 중요해요.   \n",
       "1        집안 곳곳에 일명 ‘몰래카메라’를 설치해 자신의 집을 방문한 여성들을 10년간 불법...   \n",
       "2                               그렇게 하면 우리가 보호해 줄 수 있게 되거든.   \n",
       "3        말레이시아의 정체성 안에서 전통의 주된 줄기는 보존하되, 시대에 맞는 창의적 전통음...   \n",
       "4                      이어 열린의사회 소속 전문상담사가 문자를 통한 상담을 실시한다.   \n",
       "...                                                    ...   \n",
       "1606021  손혜원 더불어민주당 의원의 목포 부동산 투기 의혹과 서영교 의원의 재판 청탁 의혹을...   \n",
       "1606022                               친구와 포도주는 오래될수록 좋습니다.   \n",
       "1606023             저는 혜영이와 만난 하루하루를 소중히 여기며 언제나 기억하고 있어요.   \n",
       "1606024                    당신이 이 이슈에 대해 알고 싶으면 메시지를 보내주세요.   \n",
       "1606025  실제 한국감정원 조사에서 수도권은 서울 강북과 개발호재가 있는 일부 지역 상승 영향...   \n",
       "\n",
       "                                                   English  \n",
       "0        It is the most important thing to have creativ...  \n",
       "1        The son of a major pharmaceutical company, who...  \n",
       "2               By doing that, we are able to protect you.  \n",
       "3        Though the major root of tradition needs to be...  \n",
       "4        Then a professional counselor from the Medical...  \n",
       "...                                                    ...  \n",
       "1606021  The scandal is growing over allegations that S...  \n",
       "1606022             Friends and wines get better with age.  \n",
       "1606023  I appreciate and remember every moments since ...  \n",
       "1606024  Please send me a message if you want to learn ...  \n",
       "1606025  In fact, in a survey conducted by the Korea Ap...  \n",
       "\n",
       "[1606026 rows x 2 columns]"
      ]
     },
     "execution_count": 24,
     "metadata": {},
     "output_type": "execute_result"
    }
   ],
   "source": [
    "data = pd.DataFrame(dict_)\n",
    "data"
   ]
  },
  {
   "cell_type": "code",
   "execution_count": 25,
   "metadata": {},
   "outputs": [
    {
     "data": {
      "text/html": [
       "<div>\n",
       "<style scoped>\n",
       "    .dataframe tbody tr th:only-of-type {\n",
       "        vertical-align: middle;\n",
       "    }\n",
       "\n",
       "    .dataframe tbody tr th {\n",
       "        vertical-align: top;\n",
       "    }\n",
       "\n",
       "    .dataframe thead th {\n",
       "        text-align: right;\n",
       "    }\n",
       "</style>\n",
       "<table border=\"1\" class=\"dataframe\">\n",
       "  <thead>\n",
       "    <tr style=\"text-align: right;\">\n",
       "      <th></th>\n",
       "      <th>Korean</th>\n",
       "      <th>English</th>\n",
       "    </tr>\n",
       "  </thead>\n",
       "  <tbody>\n",
       "    <tr>\n",
       "      <td>count</td>\n",
       "      <td>1606026</td>\n",
       "      <td>1606026</td>\n",
       "    </tr>\n",
       "    <tr>\n",
       "      <td>unique</td>\n",
       "      <td>1603111</td>\n",
       "      <td>1601859</td>\n",
       "    </tr>\n",
       "    <tr>\n",
       "      <td>top</td>\n",
       "      <td>뭔가 할 말이 있니?</td>\n",
       "      <td>Korea went to the public hearing with everyone...</td>\n",
       "    </tr>\n",
       "    <tr>\n",
       "      <td>freq</td>\n",
       "      <td>5</td>\n",
       "      <td>27</td>\n",
       "    </tr>\n",
       "  </tbody>\n",
       "</table>\n",
       "</div>"
      ],
      "text/plain": [
       "             Korean                                            English\n",
       "count       1606026                                            1606026\n",
       "unique      1603111                                            1601859\n",
       "top     뭔가 할 말이 있니?  Korea went to the public hearing with everyone...\n",
       "freq              5                                                 27"
      ]
     },
     "execution_count": 25,
     "metadata": {},
     "output_type": "execute_result"
    }
   ],
   "source": [
    "data.describe()"
   ]
  },
  {
   "cell_type": "markdown",
   "metadata": {},
   "source": [
    "## 데이터 중복 검사 및 제거"
   ]
  },
  {
   "cell_type": "code",
   "execution_count": 20,
   "metadata": {},
   "outputs": [
    {
     "data": {
      "text/html": [
       "<div>\n",
       "<style scoped>\n",
       "    .dataframe tbody tr th:only-of-type {\n",
       "        vertical-align: middle;\n",
       "    }\n",
       "\n",
       "    .dataframe tbody tr th {\n",
       "        vertical-align: top;\n",
       "    }\n",
       "\n",
       "    .dataframe thead th {\n",
       "        text-align: right;\n",
       "    }\n",
       "</style>\n",
       "<table border=\"1\" class=\"dataframe\">\n",
       "  <thead>\n",
       "    <tr style=\"text-align: right;\">\n",
       "      <th></th>\n",
       "      <th>Korean</th>\n",
       "      <th>English</th>\n",
       "    </tr>\n",
       "  </thead>\n",
       "  <tbody>\n",
       "    <tr>\n",
       "      <td>count</td>\n",
       "      <td>1606026</td>\n",
       "      <td>1606026</td>\n",
       "    </tr>\n",
       "    <tr>\n",
       "      <td>unique</td>\n",
       "      <td>1603111</td>\n",
       "      <td>1601859</td>\n",
       "    </tr>\n",
       "    <tr>\n",
       "      <td>top</td>\n",
       "      <td>뭔가 할 말이 있니?</td>\n",
       "      <td>Korea went to the public hearing with everyone...</td>\n",
       "    </tr>\n",
       "    <tr>\n",
       "      <td>freq</td>\n",
       "      <td>5</td>\n",
       "      <td>27</td>\n",
       "    </tr>\n",
       "  </tbody>\n",
       "</table>\n",
       "</div>"
      ],
      "text/plain": [
       "             Korean                                            English\n",
       "count       1606026                                            1606026\n",
       "unique      1603111                                            1601859\n",
       "top     뭔가 할 말이 있니?  Korea went to the public hearing with everyone...\n",
       "freq              5                                                 27"
      ]
     },
     "execution_count": 20,
     "metadata": {},
     "output_type": "execute_result"
    }
   ],
   "source": [
    "data.describe()"
   ]
  },
  {
   "cell_type": "code",
   "execution_count": 29,
   "metadata": {},
   "outputs": [
    {
     "data": {
      "text/plain": [
       "2497"
      ]
     },
     "execution_count": 29,
     "metadata": {},
     "output_type": "execute_result"
    }
   ],
   "source": [
    "data.duplicated().sum()"
   ]
  },
  {
   "cell_type": "code",
   "execution_count": 30,
   "metadata": {},
   "outputs": [],
   "source": [
    "data = data.drop_duplicates()"
   ]
  },
  {
   "cell_type": "code",
   "execution_count": 31,
   "metadata": {},
   "outputs": [
    {
     "data": {
      "text/plain": [
       "0"
      ]
     },
     "execution_count": 31,
     "metadata": {},
     "output_type": "execute_result"
    }
   ],
   "source": [
    "data.duplicated().sum()"
   ]
  },
  {
   "cell_type": "code",
   "execution_count": 32,
   "metadata": {},
   "outputs": [],
   "source": [
    "data = data.reset_index(drop=True) # 0~20만, 0~20만 이런 인덱스까지 concat 되었던 것을 초기화, 다시 인덱스 주었다"
   ]
  },
  {
   "cell_type": "code",
   "execution_count": 33,
   "metadata": {
    "scrolled": false
   },
   "outputs": [
    {
     "data": {
      "text/html": [
       "<div>\n",
       "<style scoped>\n",
       "    .dataframe tbody tr th:only-of-type {\n",
       "        vertical-align: middle;\n",
       "    }\n",
       "\n",
       "    .dataframe tbody tr th {\n",
       "        vertical-align: top;\n",
       "    }\n",
       "\n",
       "    .dataframe thead th {\n",
       "        text-align: right;\n",
       "    }\n",
       "</style>\n",
       "<table border=\"1\" class=\"dataframe\">\n",
       "  <thead>\n",
       "    <tr style=\"text-align: right;\">\n",
       "      <th></th>\n",
       "      <th>Korean</th>\n",
       "      <th>English</th>\n",
       "    </tr>\n",
       "  </thead>\n",
       "  <tbody>\n",
       "    <tr>\n",
       "      <td>0</td>\n",
       "      <td>어릴 때 창의성을 가지는 게 가장 중요해요.</td>\n",
       "      <td>It is the most important thing to have creativ...</td>\n",
       "    </tr>\n",
       "    <tr>\n",
       "      <td>1</td>\n",
       "      <td>집안 곳곳에 일명 ‘몰래카메라’를 설치해 자신의 집을 방문한 여성들을 10년간 불법...</td>\n",
       "      <td>The son of a major pharmaceutical company, who...</td>\n",
       "    </tr>\n",
       "    <tr>\n",
       "      <td>2</td>\n",
       "      <td>그렇게 하면 우리가 보호해 줄 수 있게 되거든.</td>\n",
       "      <td>By doing that, we are able to protect you.</td>\n",
       "    </tr>\n",
       "    <tr>\n",
       "      <td>3</td>\n",
       "      <td>말레이시아의 정체성 안에서 전통의 주된 줄기는 보존하되, 시대에 맞는 창의적 전통음...</td>\n",
       "      <td>Though the major root of tradition needs to be...</td>\n",
       "    </tr>\n",
       "    <tr>\n",
       "      <td>4</td>\n",
       "      <td>이어 열린의사회 소속 전문상담사가 문자를 통한 상담을 실시한다.</td>\n",
       "      <td>Then a professional counselor from the Medical...</td>\n",
       "    </tr>\n",
       "    <tr>\n",
       "      <td>...</td>\n",
       "      <td>...</td>\n",
       "      <td>...</td>\n",
       "    </tr>\n",
       "    <tr>\n",
       "      <td>1603524</td>\n",
       "      <td>손혜원 더불어민주당 의원의 목포 부동산 투기 의혹과 서영교 의원의 재판 청탁 의혹을...</td>\n",
       "      <td>The scandal is growing over allegations that S...</td>\n",
       "    </tr>\n",
       "    <tr>\n",
       "      <td>1603525</td>\n",
       "      <td>친구와 포도주는 오래될수록 좋습니다.</td>\n",
       "      <td>Friends and wines get better with age.</td>\n",
       "    </tr>\n",
       "    <tr>\n",
       "      <td>1603526</td>\n",
       "      <td>저는 혜영이와 만난 하루하루를 소중히 여기며 언제나 기억하고 있어요.</td>\n",
       "      <td>I appreciate and remember every moments since ...</td>\n",
       "    </tr>\n",
       "    <tr>\n",
       "      <td>1603527</td>\n",
       "      <td>당신이 이 이슈에 대해 알고 싶으면 메시지를 보내주세요.</td>\n",
       "      <td>Please send me a message if you want to learn ...</td>\n",
       "    </tr>\n",
       "    <tr>\n",
       "      <td>1603528</td>\n",
       "      <td>실제 한국감정원 조사에서 수도권은 서울 강북과 개발호재가 있는 일부 지역 상승 영향...</td>\n",
       "      <td>In fact, in a survey conducted by the Korea Ap...</td>\n",
       "    </tr>\n",
       "  </tbody>\n",
       "</table>\n",
       "<p>1603529 rows × 2 columns</p>\n",
       "</div>"
      ],
      "text/plain": [
       "                                                    Korean  \\\n",
       "0                                 어릴 때 창의성을 가지는 게 가장 중요해요.   \n",
       "1        집안 곳곳에 일명 ‘몰래카메라’를 설치해 자신의 집을 방문한 여성들을 10년간 불법...   \n",
       "2                               그렇게 하면 우리가 보호해 줄 수 있게 되거든.   \n",
       "3        말레이시아의 정체성 안에서 전통의 주된 줄기는 보존하되, 시대에 맞는 창의적 전통음...   \n",
       "4                      이어 열린의사회 소속 전문상담사가 문자를 통한 상담을 실시한다.   \n",
       "...                                                    ...   \n",
       "1603524  손혜원 더불어민주당 의원의 목포 부동산 투기 의혹과 서영교 의원의 재판 청탁 의혹을...   \n",
       "1603525                               친구와 포도주는 오래될수록 좋습니다.   \n",
       "1603526             저는 혜영이와 만난 하루하루를 소중히 여기며 언제나 기억하고 있어요.   \n",
       "1603527                    당신이 이 이슈에 대해 알고 싶으면 메시지를 보내주세요.   \n",
       "1603528  실제 한국감정원 조사에서 수도권은 서울 강북과 개발호재가 있는 일부 지역 상승 영향...   \n",
       "\n",
       "                                                   English  \n",
       "0        It is the most important thing to have creativ...  \n",
       "1        The son of a major pharmaceutical company, who...  \n",
       "2               By doing that, we are able to protect you.  \n",
       "3        Though the major root of tradition needs to be...  \n",
       "4        Then a professional counselor from the Medical...  \n",
       "...                                                    ...  \n",
       "1603524  The scandal is growing over allegations that S...  \n",
       "1603525             Friends and wines get better with age.  \n",
       "1603526  I appreciate and remember every moments since ...  \n",
       "1603527  Please send me a message if you want to learn ...  \n",
       "1603528  In fact, in a survey conducted by the Korea Ap...  \n",
       "\n",
       "[1603529 rows x 2 columns]"
      ]
     },
     "execution_count": 33,
     "metadata": {},
     "output_type": "execute_result"
    }
   ],
   "source": [
    "data"
   ]
  },
  {
   "cell_type": "code",
   "execution_count": 35,
   "metadata": {},
   "outputs": [],
   "source": [
    "data.to_csv(\"datalist.csv\", encoding = 'utf-8-sig', index = False, mode = \"w\")"
   ]
  },
  {
   "cell_type": "markdown",
   "metadata": {},
   "source": [
    "## 문장별 단어 개수 파악"
   ]
  },
  {
   "cell_type": "markdown",
   "metadata": {},
   "source": [
    "#### 1. 한글 문장 단어 개수 새기"
   ]
  },
  {
   "cell_type": "code",
   "execution_count": 36,
   "metadata": {},
   "outputs": [],
   "source": [
    "kor_word_len = []\n",
    "for i in range(len(data)):\n",
    "    kor_word_len.append(len(data['Korean'][i].split(\" \")))"
   ]
  },
  {
   "cell_type": "code",
   "execution_count": 37,
   "metadata": {},
   "outputs": [],
   "source": [
    "eng_word_len = []\n",
    "for i in range(len(data)):\n",
    "    eng_word_len.append(len(data['English'][i].split(\" \")))"
   ]
  },
  {
   "cell_type": "code",
   "execution_count": 38,
   "metadata": {},
   "outputs": [],
   "source": [
    "kor_word_len.sort()\n",
    "eng_word_len.sort()"
   ]
  },
  {
   "cell_type": "code",
   "execution_count": 39,
   "metadata": {},
   "outputs": [
    {
     "name": "stdout",
     "output_type": "stream",
     "text": [
      "한글 문장 중 가장 적은 단어 개수 가진 문장은  1\n",
      "한글 문장 중 가장 많은 단어 개수 가진 문장은  89\n",
      "영어 문장 중 가장 적은 단어 개수 가진 문장은  1\n",
      "영어 문장 중 가장 많은 단어 개수 가진 문장은  993\n"
     ]
    }
   ],
   "source": [
    "print(\"한글 문장 중 가장 적은 단어 개수 가진 문장은 \", min(kor_word_len))\n",
    "print(\"한글 문장 중 가장 많은 단어 개수 가진 문장은 \", max(kor_word_len))\n",
    "print(\"영어 문장 중 가장 적은 단어 개수 가진 문장은 \", min(eng_word_len))\n",
    "print(\"영어 문장 중 가장 많은 단어 개수 가진 문장은 \", max(eng_word_len))"
   ]
  },
  {
   "cell_type": "code",
   "execution_count": 40,
   "metadata": {},
   "outputs": [
    {
     "data": {
      "image/png": "[encoded data removed]",
      "text/plain": [
       "<Figure size 864x576 with 1 Axes>"
      ]
     },
     "metadata": {
      "needs_background": "light"
     },
     "output_type": "display_data"
    }
   ],
   "source": [
    "fig, ax = plt.subplots(figsize = (12,8))\n",
    "sns.boxplot(kor_word_len)\n",
    "plt.show()"
   ]
  },
  {
   "cell_type": "code",
   "execution_count": 41,
   "metadata": {},
   "outputs": [
    {
     "data": {
      "image/png": "[encoded data removed]",
      "text/plain": [
       "<Figure size 864x576 with 1 Axes>"
      ]
     },
     "metadata": {
      "needs_background": "light"
     },
     "output_type": "display_data"
    }
   ],
   "source": [
    "fig, ax = plt.subplots(figsize = (12,8))\n",
    "sns.boxplot(eng_word_len)\n",
    "plt.show()"
   ]
  },
  {
   "cell_type": "markdown",
   "metadata": {},
   "source": [
    "#### 2. 문장 별  단어 개수 세서 열에 추가하기"
   ]
  }
 ],
 "metadata": {
  "kernelspec": {
   "display_name": "Python 3",
   "language": "python",
   "name": "python3"
  },
  "language_info": {
   "codemirror_mode": {
    "name": "ipython",
    "version": 3
   },
   "file_extension": ".py",
   "mimetype": "text/x-python",
   "name": "python",
   "nbconvert_exporter": "python",
   "pygments_lexer": "ipython3",
   "version": "3.7.4"
  }
 },
 "nbformat": 4,
 "nbformat_minor": 2
}
