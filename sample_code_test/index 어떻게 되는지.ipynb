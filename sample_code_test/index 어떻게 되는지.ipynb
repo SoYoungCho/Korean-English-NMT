{
 "cells": [
  {
   "cell_type": "code",
   "execution_count": 1,
   "metadata": {},
   "outputs": [],
   "source": [
    "eng_list = ['potato', 'candy', 'Hi', 'I', 'am' , 'yummy', 'Potato','hi']\n"
   ]
  },
  {
   "cell_type": "code",
   "execution_count": 3,
   "metadata": {},
   "outputs": [
    {
     "data": {
      "text/plain": [
       "['Hi', 'I', 'Potato', 'am', 'candy', 'hi', 'potato', 'yummy']"
      ]
     },
     "execution_count": 3,
     "metadata": {},
     "output_type": "execute_result"
    }
   ],
   "source": [
    "sorted(eng_list)"
   ]
  },
  {
   "cell_type": "markdown",
   "metadata": {},
   "source": [
    "Hi 7 1 '1'\n",
    "I 8  2 '1'\n",
    "Potato 9 3 '1'\n",
    "am 10 4 '1'\n",
    "candy 5 5 '3'\n",
    "hi 11 6 '1'\n",
    "potato 4 7'5'\n",
    "yummy 6 8 '2'\n",
    "\n",
    "많이 나온 단어일 수록 작은 인덱스를 배정\n",
    "count가 동일할 경우 sorted 순서로 배정\n",
    "\n"
   ]
  },
  {
   "cell_type": "code",
   "execution_count": 5,
   "metadata": {},
   "outputs": [
    {
     "data": {
      "text/plain": [
       "['감자',\n",
       " '감자',\n",
       " '감자',\n",
       " '고구마',\n",
       " '고구마',\n",
       " '나는',\n",
       " '맛있는',\n",
       " '맛있어',\n",
       " '맛탕',\n",
       " '맛탕',\n",
       " '맛탕',\n",
       " '안녕',\n",
       " '안녕']"
      ]
     },
     "execution_count": 5,
     "metadata": {},
     "output_type": "execute_result"
    }
   ],
   "source": [
    "kor_list = ['감자' , '감자' , '맛탕', '안녕', '나는', '감자', '맛탕', '맛있는', '고구마', '고구마', '맛있어', '맛탕', '안녕']\n",
    "sorted(kor_list)"
   ]
  },
  {
   "cell_type": "markdown",
   "metadata": {},
   "source": [
    "감자 3\n",
    "맛탕 2\n",
    "고구마 4\n",
    "안녕 5\n",
    "나는 6\n",
    "맛있는 7\n",
    "맛있어 8\n",
    "감자 9 (첫번째 문장의 감자)"
   ]
  },
  {
   "cell_type": "code",
   "execution_count": 6,
   "metadata": {},
   "outputs": [
    {
     "data": {
      "text/plain": [
       "['안녕', '나는', '소영이야']"
      ]
     },
     "execution_count": 6,
     "metadata": {},
     "output_type": "execute_result"
    }
   ],
   "source": [
    "\"안녕 나는 소영이야\".split()"
   ]
  }
 ],
 "metadata": {
  "kernelspec": {
   "display_name": "Python 3",
   "language": "python",
   "name": "python3"
  },
  "language_info": {
   "codemirror_mode": {
    "name": "ipython",
    "version": 3
   },
   "file_extension": ".py",
   "mimetype": "text/x-python",
   "name": "python",
   "nbconvert_exporter": "python",
   "pygments_lexer": "ipython3",
   "version": "3.7.4"
  }
 },
 "nbformat": 4,
 "nbformat_minor": 2
}
