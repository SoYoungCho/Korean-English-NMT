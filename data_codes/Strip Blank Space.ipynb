{
 "cells": [
  {
   "cell_type": "code",
   "execution_count": 1,
   "metadata": {},
   "outputs": [],
   "source": [
    "import pandas as pd"
   ]
  },
  {
   "cell_type": "code",
   "execution_count": 2,
   "metadata": {},
   "outputs": [],
   "source": [
    "org_data = pd.read_csv('C:/Users/Soyoung Cho/Desktop/NMT Project/dataset/datalist_modified.csv')"
   ]
  },
  {
   "cell_type": "code",
   "execution_count": 3,
   "metadata": {
    "scrolled": true
   },
   "outputs": [
    {
     "data": {
      "text/html": [
       "<div>\n",
       "<style scoped>\n",
       "    .dataframe tbody tr th:only-of-type {\n",
       "        vertical-align: middle;\n",
       "    }\n",
       "\n",
       "    .dataframe tbody tr th {\n",
       "        vertical-align: top;\n",
       "    }\n",
       "\n",
       "    .dataframe thead th {\n",
       "        text-align: right;\n",
       "    }\n",
       "</style>\n",
       "<table border=\"1\" class=\"dataframe\">\n",
       "  <thead>\n",
       "    <tr style=\"text-align: right;\">\n",
       "      <th></th>\n",
       "      <th>Korean</th>\n",
       "      <th>English</th>\n",
       "    </tr>\n",
       "  </thead>\n",
       "  <tbody>\n",
       "    <tr>\n",
       "      <td>0</td>\n",
       "      <td>소수의 부유한 사람들을 위한 경제가 아니라 내가 속한 공동체에 보탬이 되는 경제 틀...</td>\n",
       "      <td>The city can do a better job of building an ec...</td>\n",
       "    </tr>\n",
       "    <tr>\n",
       "      <td>1</td>\n",
       "      <td>조사가 길어지면서 잦은 현장조사에 대해 비판이 나온다.</td>\n",
       "      <td>As the investigation drags on, criticism comes...</td>\n",
       "    </tr>\n",
       "    <tr>\n",
       "      <td>2</td>\n",
       "      <td>그가 1989년 미국에서 출간한 ‘디스커버링(Discovering)’은 위대한 과학...</td>\n",
       "      <td>\"Discovering,\" which he published in 1989 in t...</td>\n",
       "    </tr>\n",
       "    <tr>\n",
       "      <td>3</td>\n",
       "      <td>당신이 생각했던것 처럼 병원비가 많이 나온건 알아요.</td>\n",
       "      <td>I know the hospital fee was really high as you...</td>\n",
       "    </tr>\n",
       "    <tr>\n",
       "      <td>4</td>\n",
       "      <td>전반 8분, 상대 슈팅이 골대에 맞는 행운으로 위기를 넘긴 벨기에는 5분 뒤 행운의...</td>\n",
       "      <td>In the eight minutes of the first half, Belgiu...</td>\n",
       "    </tr>\n",
       "  </tbody>\n",
       "</table>\n",
       "</div>"
      ],
      "text/plain": [
       "                                              Korean  \\\n",
       "0  소수의 부유한 사람들을 위한 경제가 아니라 내가 속한 공동체에 보탬이 되는 경제 틀...   \n",
       "1                     조사가 길어지면서 잦은 현장조사에 대해 비판이 나온다.   \n",
       "2  그가 1989년 미국에서 출간한 ‘디스커버링(Discovering)’은 위대한 과학...   \n",
       "3                      당신이 생각했던것 처럼 병원비가 많이 나온건 알아요.   \n",
       "4  전반 8분, 상대 슈팅이 골대에 맞는 행운으로 위기를 넘긴 벨기에는 5분 뒤 행운의...   \n",
       "\n",
       "                                             English  \n",
       "0  The city can do a better job of building an ec...  \n",
       "1  As the investigation drags on, criticism comes...  \n",
       "2  \"Discovering,\" which he published in 1989 in t...  \n",
       "3  I know the hospital fee was really high as you...  \n",
       "4  In the eight minutes of the first half, Belgiu...  "
      ]
     },
     "execution_count": 3,
     "metadata": {},
     "output_type": "execute_result"
    }
   ],
   "source": [
    "org_data.head()"
   ]
  },
  {
   "cell_type": "code",
   "execution_count": 4,
   "metadata": {
    "scrolled": false
   },
   "outputs": [],
   "source": [
    "striped_eng = []\n",
    "for line in org_data[\"English\"]:\n",
    "    striped_eng.append(line.strip(\" \"))"
   ]
  },
  {
   "cell_type": "code",
   "execution_count": 5,
   "metadata": {},
   "outputs": [],
   "source": [
    "striped_kor = []\n",
    "for line in org_data[\"Korean\"]:\n",
    "    striped_kor.append(line.strip(\" \"))"
   ]
  },
  {
   "cell_type": "code",
   "execution_count": 6,
   "metadata": {},
   "outputs": [],
   "source": [
    "org_data[\"Korean\"] = striped_kor\n",
    "org_data[\"English\"] = striped_eng"
   ]
  },
  {
   "cell_type": "code",
   "execution_count": 7,
   "metadata": {},
   "outputs": [],
   "source": [
    "kor_word_cnt = []\n",
    "eng_word_cnt = []\n",
    "for i in range(len(org_data)):\n",
    "    kor_word_cnt.append(len(org_data['Korean'][i].split(\" \")))\n",
    "    eng_word_cnt.append(len(org_data['English'][i].split(\" \")))"
   ]
  },
  {
   "cell_type": "code",
   "execution_count": 8,
   "metadata": {},
   "outputs": [],
   "source": [
    "org_data[\"Korean_word_count\"] = kor_word_cnt\n",
    "org_data[\"English_word_count\"] = eng_word_cnt"
   ]
  },
  {
   "cell_type": "code",
   "execution_count": 9,
   "metadata": {},
   "outputs": [],
   "source": [
    "eng_sorted = org_data.sort_values(by=['English_word_count'], axis=0, ascending=False)"
   ]
  },
  {
   "cell_type": "code",
   "execution_count": 10,
   "metadata": {},
   "outputs": [
    {
     "data": {
      "text/html": [
       "<div>\n",
       "<style scoped>\n",
       "    .dataframe tbody tr th:only-of-type {\n",
       "        vertical-align: middle;\n",
       "    }\n",
       "\n",
       "    .dataframe tbody tr th {\n",
       "        vertical-align: top;\n",
       "    }\n",
       "\n",
       "    .dataframe thead th {\n",
       "        text-align: right;\n",
       "    }\n",
       "</style>\n",
       "<table border=\"1\" class=\"dataframe\">\n",
       "  <thead>\n",
       "    <tr style=\"text-align: right;\">\n",
       "      <th></th>\n",
       "      <th>Korean</th>\n",
       "      <th>English</th>\n",
       "      <th>Korean_word_count</th>\n",
       "      <th>English_word_count</th>\n",
       "    </tr>\n",
       "  </thead>\n",
       "  <tbody>\n",
       "    <tr>\n",
       "      <td>1416839</td>\n",
       "      <td>「조세특례제한법」제121조의2제5항제2호 및 제3호에 따른 외국인투자비율에 해당하는...</td>\n",
       "      <td>The amount of property tax falling under the f...</td>\n",
       "      <td>52</td>\n",
       "      <td>180</td>\n",
       "    </tr>\n",
       "    <tr>\n",
       "      <td>663665</td>\n",
       "      <td>「조세특례제한법」제121조의2제4항제1호 및 제2호에 따른 외국인투자비율에 해당하는...</td>\n",
       "      <td>For the property tax falling under the foreign...</td>\n",
       "      <td>46</td>\n",
       "      <td>172</td>\n",
       "    </tr>\n",
       "    <tr>\n",
       "      <td>547274</td>\n",
       "      <td>일단의 토지면적이 특별시·광역시 및 시지역에서 1,000제곱미터 이하, 그 밖의 지...</td>\n",
       "      <td>Where land that has buildings that are not own...</td>\n",
       "      <td>78</td>\n",
       "      <td>165</td>\n",
       "    </tr>\n",
       "    <tr>\n",
       "      <td>35120</td>\n",
       "      <td>부칙 제2조「표 1」규정의 시행으로 감축되는 정원 27명(집행기관의 정원 27명)에...</td>\n",
       "      <td>Where there the current employees are in exces...</td>\n",
       "      <td>64</td>\n",
       "      <td>158</td>\n",
       "    </tr>\n",
       "    <tr>\n",
       "      <td>153049</td>\n",
       "      <td>서울특별시 노원구청장(이하 “구청장”이라 한다)은 위임받은 서울특별시 시세(이하 “...</td>\n",
       "      <td>The head of Nowon-gu Seoul Metropolitan Govern...</td>\n",
       "      <td>56</td>\n",
       "      <td>156</td>\n",
       "    </tr>\n",
       "  </tbody>\n",
       "</table>\n",
       "</div>"
      ],
      "text/plain": [
       "                                                    Korean  \\\n",
       "1416839  「조세특례제한법」제121조의2제5항제2호 및 제3호에 따른 외국인투자비율에 해당하는...   \n",
       "663665   「조세특례제한법」제121조의2제4항제1호 및 제2호에 따른 외국인투자비율에 해당하는...   \n",
       "547274   일단의 토지면적이 특별시·광역시 및 시지역에서 1,000제곱미터 이하, 그 밖의 지...   \n",
       "35120    부칙 제2조「표 1」규정의 시행으로 감축되는 정원 27명(집행기관의 정원 27명)에...   \n",
       "153049   서울특별시 노원구청장(이하 “구청장”이라 한다)은 위임받은 서울특별시 시세(이하 “...   \n",
       "\n",
       "                                                   English  Korean_word_count  \\\n",
       "1416839  The amount of property tax falling under the f...                 52   \n",
       "663665   For the property tax falling under the foreign...                 46   \n",
       "547274   Where land that has buildings that are not own...                 78   \n",
       "35120    Where there the current employees are in exces...                 64   \n",
       "153049   The head of Nowon-gu Seoul Metropolitan Govern...                 56   \n",
       "\n",
       "         English_word_count  \n",
       "1416839                 180  \n",
       "663665                  172  \n",
       "547274                  165  \n",
       "35120                   158  \n",
       "153049                  156  "
      ]
     },
     "execution_count": 10,
     "metadata": {},
     "output_type": "execute_result"
    }
   ],
   "source": [
    "eng_sorted.head()"
   ]
  },
  {
   "cell_type": "code",
   "execution_count": 13,
   "metadata": {},
   "outputs": [
    {
     "data": {
      "text/plain": [
       "180"
      ]
     },
     "execution_count": 13,
     "metadata": {},
     "output_type": "execute_result"
    }
   ],
   "source": [
    "len(eng_sorted[\"English\"][1416839].split(\" \"))"
   ]
  },
  {
   "cell_type": "code",
   "execution_count": 14,
   "metadata": {},
   "outputs": [
    {
     "data": {
      "text/plain": [
       "'The amount of property tax falling under the foreign investment ratio referred to in Article 121-2 (5) 2 and 3 of the Restriction of Special Taxation Act shall be calculated based on the amount of tax to be reduced or exempted (amount to be deducted) for five years from the date the relevant property is acquired pursuant to the proviso to the same paragraph. The amount of tax shall be exempted, and 50/100 of the amount of tax to be reduced or exempted (the amount to be deducted) for the following two years shall be reduced or exempted, and the amount of tax shall be reduced or exempted for the business subject to reduction or exemption under paragraph (1) 2-2 (2) 7 and 3 of the same Article. The foreign-invested property tax shall be exempted from the amount to be reduced or exempted (the amount to be deducted) for three years from the date the relevant property is acquired, and shall be reduced or exempted by 50/100 of the amount to be reduced or exempted (the amount to be deducted).'"
      ]
     },
     "execution_count": 14,
     "metadata": {},
     "output_type": "execute_result"
    }
   ],
   "source": [
    "eng_sorted[\"English\"][1416839]"
   ]
  },
  {
   "cell_type": "code",
   "execution_count": 15,
   "metadata": {},
   "outputs": [
    {
     "data": {
      "text/plain": [
       "'「조세특례제한법」제121조의2제5항제2호 및 제3호에 따른 외국인투자비율에 해당하는 재산세는 같은 항 단서에 따라 해당 재산을 취득한 날부터 5년간 감면대상세액(공제대상금액)의 전액을 면제하고, 그 다음 2년간 감면대상세액(공제대상금액)의 100분의 50을 감면하며, 같은 조 제1항제2호의2부터 제2호의7까지 및 제3호에 따른 감면대상사업의 외국인투자비율에 해당하는 재산세는 해당 재산을 취득한 날부터 3년간 감면대상금액(공제대상금액)의 전액을 면제하고, 그 다음 2년간 감면대상금액(공제대상금액)의 100분의 50을 감면한다.'"
      ]
     },
     "execution_count": 15,
     "metadata": {},
     "output_type": "execute_result"
    }
   ],
   "source": [
    "eng_sorted[\"Korean\"][1416839]"
   ]
  },
  {
   "cell_type": "code",
   "execution_count": 16,
   "metadata": {},
   "outputs": [],
   "source": [
    "kor_sorted = org_data.sort_values(by=['Korean_word_count'], axis=0, ascending=False)"
   ]
  },
  {
   "cell_type": "code",
   "execution_count": 17,
   "metadata": {},
   "outputs": [
    {
     "data": {
      "text/html": [
       "<div>\n",
       "<style scoped>\n",
       "    .dataframe tbody tr th:only-of-type {\n",
       "        vertical-align: middle;\n",
       "    }\n",
       "\n",
       "    .dataframe tbody tr th {\n",
       "        vertical-align: top;\n",
       "    }\n",
       "\n",
       "    .dataframe thead th {\n",
       "        text-align: right;\n",
       "    }\n",
       "</style>\n",
       "<table border=\"1\" class=\"dataframe\">\n",
       "  <thead>\n",
       "    <tr style=\"text-align: right;\">\n",
       "      <th></th>\n",
       "      <th>Korean</th>\n",
       "      <th>English</th>\n",
       "      <th>Korean_word_count</th>\n",
       "      <th>English_word_count</th>\n",
       "    </tr>\n",
       "  </thead>\n",
       "  <tbody>\n",
       "    <tr>\n",
       "      <td>539215</td>\n",
       "      <td>의심의 여지 없이 세상에는 어떤 남자이든 정확히 딱 알맞는 여자와 결혼하거나 그 반...</td>\n",
       "      <td>Doubtless there exists in this world precisely...</td>\n",
       "      <td>89</td>\n",
       "      <td>101</td>\n",
       "    </tr>\n",
       "    <tr>\n",
       "      <td>547274</td>\n",
       "      <td>일단의 토지면적이 특별시·광역시 및 시지역에서 1,000제곱미터 이하, 그 밖의 지...</td>\n",
       "      <td>Where land that has buildings that are not own...</td>\n",
       "      <td>78</td>\n",
       "      <td>165</td>\n",
       "    </tr>\n",
       "    <tr>\n",
       "      <td>143910</td>\n",
       "      <td>제8조의2(과태료의 부과 및 징수) ① 제8조제1항의 요구를 받은 자가 이에 따를 ...</td>\n",
       "      <td>Article 8-2 (Imposition and Collection of Fine...</td>\n",
       "      <td>71</td>\n",
       "      <td>138</td>\n",
       "    </tr>\n",
       "    <tr>\n",
       "      <td>35120</td>\n",
       "      <td>부칙 제2조「표 1」규정의 시행으로 감축되는 정원 27명(집행기관의 정원 27명)에...</td>\n",
       "      <td>Where there the current employees are in exces...</td>\n",
       "      <td>64</td>\n",
       "      <td>158</td>\n",
       "    </tr>\n",
       "    <tr>\n",
       "      <td>516984</td>\n",
       "      <td>「옥외광고물 등의 관리와 옥외광고산업 진흥에 관한 법률 시행령」(이하 “영”이라 한...</td>\n",
       "      <td>Where filing an application for permission in ...</td>\n",
       "      <td>62</td>\n",
       "      <td>122</td>\n",
       "    </tr>\n",
       "  </tbody>\n",
       "</table>\n",
       "</div>"
      ],
      "text/plain": [
       "                                                   Korean  \\\n",
       "539215  의심의 여지 없이 세상에는 어떤 남자이든 정확히 딱 알맞는 여자와 결혼하거나 그 반...   \n",
       "547274  일단의 토지면적이 특별시·광역시 및 시지역에서 1,000제곱미터 이하, 그 밖의 지...   \n",
       "143910  제8조의2(과태료의 부과 및 징수) ① 제8조제1항의 요구를 받은 자가 이에 따를 ...   \n",
       "35120   부칙 제2조「표 1」규정의 시행으로 감축되는 정원 27명(집행기관의 정원 27명)에...   \n",
       "516984  「옥외광고물 등의 관리와 옥외광고산업 진흥에 관한 법률 시행령」(이하 “영”이라 한...   \n",
       "\n",
       "                                                  English  Korean_word_count  \\\n",
       "539215  Doubtless there exists in this world precisely...                 89   \n",
       "547274  Where land that has buildings that are not own...                 78   \n",
       "143910  Article 8-2 (Imposition and Collection of Fine...                 71   \n",
       "35120   Where there the current employees are in exces...                 64   \n",
       "516984  Where filing an application for permission in ...                 62   \n",
       "\n",
       "        English_word_count  \n",
       "539215                 101  \n",
       "547274                 165  \n",
       "143910                 138  \n",
       "35120                  158  \n",
       "516984                 122  "
      ]
     },
     "execution_count": 17,
     "metadata": {},
     "output_type": "execute_result"
    }
   ],
   "source": [
    "kor_sorted.head()"
   ]
  },
  {
   "cell_type": "code",
   "execution_count": 18,
   "metadata": {},
   "outputs": [
    {
     "data": {
      "text/html": [
       "<div>\n",
       "<style scoped>\n",
       "    .dataframe tbody tr th:only-of-type {\n",
       "        vertical-align: middle;\n",
       "    }\n",
       "\n",
       "    .dataframe tbody tr th {\n",
       "        vertical-align: top;\n",
       "    }\n",
       "\n",
       "    .dataframe thead th {\n",
       "        text-align: right;\n",
       "    }\n",
       "</style>\n",
       "<table border=\"1\" class=\"dataframe\">\n",
       "  <thead>\n",
       "    <tr style=\"text-align: right;\">\n",
       "      <th></th>\n",
       "      <th>Korean</th>\n",
       "      <th>English</th>\n",
       "      <th>Korean_word_count</th>\n",
       "      <th>English_word_count</th>\n",
       "    </tr>\n",
       "  </thead>\n",
       "  <tbody>\n",
       "    <tr>\n",
       "      <td>0</td>\n",
       "      <td>소수의 부유한 사람들을 위한 경제가 아니라 내가 속한 공동체에 보탬이 되는 경제 틀...</td>\n",
       "      <td>The city can do a better job of building an ec...</td>\n",
       "      <td>20</td>\n",
       "      <td>26</td>\n",
       "    </tr>\n",
       "    <tr>\n",
       "      <td>1</td>\n",
       "      <td>조사가 길어지면서 잦은 현장조사에 대해 비판이 나온다.</td>\n",
       "      <td>As the investigation drags on, criticism comes...</td>\n",
       "      <td>7</td>\n",
       "      <td>11</td>\n",
       "    </tr>\n",
       "    <tr>\n",
       "      <td>2</td>\n",
       "      <td>그가 1989년 미국에서 출간한 ‘디스커버링(Discovering)’은 위대한 과학...</td>\n",
       "      <td>\"Discovering,\" which he published in 1989 in t...</td>\n",
       "      <td>20</td>\n",
       "      <td>44</td>\n",
       "    </tr>\n",
       "    <tr>\n",
       "      <td>3</td>\n",
       "      <td>당신이 생각했던것 처럼 병원비가 많이 나온건 알아요.</td>\n",
       "      <td>I know the hospital fee was really high as you...</td>\n",
       "      <td>7</td>\n",
       "      <td>11</td>\n",
       "    </tr>\n",
       "    <tr>\n",
       "      <td>4</td>\n",
       "      <td>전반 8분, 상대 슈팅이 골대에 맞는 행운으로 위기를 넘긴 벨기에는 5분 뒤 행운의...</td>\n",
       "      <td>In the eight minutes of the first half, Belgiu...</td>\n",
       "      <td>15</td>\n",
       "      <td>33</td>\n",
       "    </tr>\n",
       "  </tbody>\n",
       "</table>\n",
       "</div>"
      ],
      "text/plain": [
       "                                              Korean  \\\n",
       "0  소수의 부유한 사람들을 위한 경제가 아니라 내가 속한 공동체에 보탬이 되는 경제 틀...   \n",
       "1                     조사가 길어지면서 잦은 현장조사에 대해 비판이 나온다.   \n",
       "2  그가 1989년 미국에서 출간한 ‘디스커버링(Discovering)’은 위대한 과학...   \n",
       "3                      당신이 생각했던것 처럼 병원비가 많이 나온건 알아요.   \n",
       "4  전반 8분, 상대 슈팅이 골대에 맞는 행운으로 위기를 넘긴 벨기에는 5분 뒤 행운의...   \n",
       "\n",
       "                                             English  Korean_word_count  \\\n",
       "0  The city can do a better job of building an ec...                 20   \n",
       "1  As the investigation drags on, criticism comes...                  7   \n",
       "2  \"Discovering,\" which he published in 1989 in t...                 20   \n",
       "3  I know the hospital fee was really high as you...                  7   \n",
       "4  In the eight minutes of the first half, Belgiu...                 15   \n",
       "\n",
       "   English_word_count  \n",
       "0                  26  \n",
       "1                  11  \n",
       "2                  44  \n",
       "3                  11  \n",
       "4                  33  "
      ]
     },
     "execution_count": 18,
     "metadata": {},
     "output_type": "execute_result"
    }
   ],
   "source": [
    "org_data.head()"
   ]
  },
  {
   "cell_type": "code",
   "execution_count": 20,
   "metadata": {},
   "outputs": [],
   "source": [
    "del org_data[\"Korean_word_count\"]\n",
    "del org_data[\"English_word_count\"]"
   ]
  },
  {
   "cell_type": "code",
   "execution_count": 21,
   "metadata": {},
   "outputs": [],
   "source": [
    "#org_data.to_csv(\"C:/Users/Soyoung Cho/Desktop/NMT Project/dataset/datalist_striped.csv\", encoding = 'utf-8-sig', index = False, mode = \"w\")"
   ]
  }
 ],
 "metadata": {
  "kernelspec": {
   "display_name": "Python 3",
   "language": "python",
   "name": "python3"
  },
  "language_info": {
   "codemirror_mode": {
    "name": "ipython",
    "version": 3
   },
   "file_extension": ".py",
   "mimetype": "text/x-python",
   "name": "python",
   "nbconvert_exporter": "python",
   "pygments_lexer": "ipython3",
   "version": "3.7.4"
  }
 },
 "nbformat": 4,
 "nbformat_minor": 2
}
