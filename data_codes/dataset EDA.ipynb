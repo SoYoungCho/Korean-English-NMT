{
 "cells": [
  {
   "cell_type": "markdown",
   "metadata": {},
   "source": [
    "## 1. 데이터 불러오기"
   ]
  },
  {
   "cell_type": "code",
   "execution_count": 1,
   "metadata": {},
   "outputs": [],
   "source": [
    "import pandas as pd\n",
    "import matplotlib.pyplot as plt\n",
    "import seaborn as sns\n",
    "import random"
   ]
  },
  {
   "cell_type": "code",
   "execution_count": 2,
   "metadata": {},
   "outputs": [],
   "source": [
    "data1 = pd.read_csv('C:/Users/Soyoung Cho/Desktop/NMT Project/dataset/train.csv')\n",
    "data2 = pd.read_csv('C:/Users/Soyoung Cho/Desktop/NMT Project/dataset/test.csv')\n",
    "data3 = pd.read_csv('C:/Users/Soyoung Cho/Desktop/NMT Project/dataset/tatoeba_data.csv')"
   ]
  },
  {
   "cell_type": "code",
   "execution_count": 3,
   "metadata": {},
   "outputs": [],
   "source": [
    "data = pd.concat([data1, data2, data3])"
   ]
  },
  {
   "cell_type": "code",
   "execution_count": 4,
   "metadata": {},
   "outputs": [],
   "source": [
    "data = data.reset_index(drop=True) # 0~20만, 0~20만 이런 인덱스까지 concat 되었던 것을 초기화, 다시 인덱스 주었다"
   ]
  },
  {
   "cell_type": "code",
   "execution_count": 5,
   "metadata": {},
   "outputs": [
    {
     "data": {
      "text/html": [
       "<div>\n",
       "<style scoped>\n",
       "    .dataframe tbody tr th:only-of-type {\n",
       "        vertical-align: middle;\n",
       "    }\n",
       "\n",
       "    .dataframe tbody tr th {\n",
       "        vertical-align: top;\n",
       "    }\n",
       "\n",
       "    .dataframe thead th {\n",
       "        text-align: right;\n",
       "    }\n",
       "</style>\n",
       "<table border=\"1\" class=\"dataframe\">\n",
       "  <thead>\n",
       "    <tr style=\"text-align: right;\">\n",
       "      <th></th>\n",
       "      <th>Korean</th>\n",
       "      <th>English</th>\n",
       "    </tr>\n",
       "  </thead>\n",
       "  <tbody>\n",
       "    <tr>\n",
       "      <td>0</td>\n",
       "      <td>경기도가 평화시대를 맞아 통일문제를 보다 쉽고 재미있게 다가갈 수 있도록 통일전문 ...</td>\n",
       "      <td>Gyeonggi-do Province will collaborate with the...</td>\n",
       "    </tr>\n",
       "    <tr>\n",
       "      <td>1</td>\n",
       "      <td>우선 현재 강원 동해안을 제외한 중부 지방과 호남 서해안에 약하게 눈이 내리거나 눈...</td>\n",
       "      <td>First of all, it is currently snowing slightly...</td>\n",
       "    </tr>\n",
       "    <tr>\n",
       "      <td>2</td>\n",
       "      <td>아직 구체적인 의제가 확정된 것은 아니지만 지난 19일 한미 국방부가 발표한 UFG...</td>\n",
       "      <td>The specific agenda has not been decided yet, ...</td>\n",
       "    </tr>\n",
       "    <tr>\n",
       "      <td>3</td>\n",
       "      <td>이시기의 남자아이에게는 레고 시티나 레고 닌자고 시리즈를 추천합니다.</td>\n",
       "      <td>Lego City and the series Lego Ninjago are reco...</td>\n",
       "    </tr>\n",
       "    <tr>\n",
       "      <td>4</td>\n",
       "      <td>손 대표로선 이날 지도부 회의에서 최고위원들을 중심으로 “사퇴하라”는 요구가 나온 ...</td>\n",
       "      <td>The representive Sohn apparently chose to make...</td>\n",
       "    </tr>\n",
       "    <tr>\n",
       "      <td>...</td>\n",
       "      <td>...</td>\n",
       "      <td>...</td>\n",
       "    </tr>\n",
       "    <tr>\n",
       "      <td>1606021</td>\n",
       "      <td>내일 와.</td>\n",
       "      <td>Come tomorrow.</td>\n",
       "    </tr>\n",
       "    <tr>\n",
       "      <td>1606022</td>\n",
       "      <td>나도 너랑 같은 처지야.</td>\n",
       "      <td>I'm in the same boat as you.</td>\n",
       "    </tr>\n",
       "    <tr>\n",
       "      <td>1606023</td>\n",
       "      <td>내가 끔찍한 실수를 저지른 것 같아.</td>\n",
       "      <td>I think I've made a horrible mistake.</td>\n",
       "    </tr>\n",
       "    <tr>\n",
       "      <td>1606024</td>\n",
       "      <td>그 사람은 자기 이름을 싸인하는 법조차 몰라.</td>\n",
       "      <td>He does not even know how to sign his name.</td>\n",
       "    </tr>\n",
       "    <tr>\n",
       "      <td>1606025</td>\n",
       "      <td>톰은 메리라는 캐나다 여성이랑 결혼했어.</td>\n",
       "      <td>Tom is married to a Canadian woman named Mary.</td>\n",
       "    </tr>\n",
       "  </tbody>\n",
       "</table>\n",
       "<p>1606026 rows × 2 columns</p>\n",
       "</div>"
      ],
      "text/plain": [
       "                                                    Korean  \\\n",
       "0        경기도가 평화시대를 맞아 통일문제를 보다 쉽고 재미있게 다가갈 수 있도록 통일전문 ...   \n",
       "1        우선 현재 강원 동해안을 제외한 중부 지방과 호남 서해안에 약하게 눈이 내리거나 눈...   \n",
       "2        아직 구체적인 의제가 확정된 것은 아니지만 지난 19일 한미 국방부가 발표한 UFG...   \n",
       "3                   이시기의 남자아이에게는 레고 시티나 레고 닌자고 시리즈를 추천합니다.   \n",
       "4        손 대표로선 이날 지도부 회의에서 최고위원들을 중심으로 “사퇴하라”는 요구가 나온 ...   \n",
       "...                                                    ...   \n",
       "1606021                                              내일 와.   \n",
       "1606022                                      나도 너랑 같은 처지야.   \n",
       "1606023                               내가 끔찍한 실수를 저지른 것 같아.   \n",
       "1606024                          그 사람은 자기 이름을 싸인하는 법조차 몰라.   \n",
       "1606025                             톰은 메리라는 캐나다 여성이랑 결혼했어.   \n",
       "\n",
       "                                                   English  \n",
       "0        Gyeonggi-do Province will collaborate with the...  \n",
       "1        First of all, it is currently snowing slightly...  \n",
       "2        The specific agenda has not been decided yet, ...  \n",
       "3        Lego City and the series Lego Ninjago are reco...  \n",
       "4        The representive Sohn apparently chose to make...  \n",
       "...                                                    ...  \n",
       "1606021                                     Come tomorrow.  \n",
       "1606022                       I'm in the same boat as you.  \n",
       "1606023              I think I've made a horrible mistake.  \n",
       "1606024        He does not even know how to sign his name.  \n",
       "1606025     Tom is married to a Canadian woman named Mary.  \n",
       "\n",
       "[1606026 rows x 2 columns]"
      ]
     },
     "execution_count": 5,
     "metadata": {},
     "output_type": "execute_result"
    }
   ],
   "source": [
    "data"
   ]
  },
  {
   "cell_type": "code",
   "execution_count": 6,
   "metadata": {},
   "outputs": [
    {
     "name": "stdout",
     "output_type": "stream",
     "text": [
      "['경기도가 평화시대를 맞아 통일문제를 보다 쉽고 재미있게 다가갈 수 있도록 통일전문 팟캐스트 <남북상열지사>와 콜라보레이션을 진행한다.', '우선 현재 강원 동해안을 제외한 중부 지방과 호남 서해안에 약하게 눈이 내리거나 눈발이 조금 날리고 있습니다.', '아직 구체적인 의제가 확정된 것은 아니지만 지난 19일 한미 국방부가 발표한 UFG 연합훈련중단에 따른 세부협의를 진행할 것으로 관측된다.', '이시기의 남자아이에게는 레고 시티나 레고 닌자고 시리즈를 추천합니다.', '손 대표로선 이날 지도부 회의에서 최고위원들을 중심으로 “사퇴하라”는 요구가 나온 가운데 정면 돌파를 택한 셈이다.']\n",
      "\n",
      "\n",
      "['Gyeonggi-do Province will collaborate with the unification special podcast <Love Song Between North and South Korea> in order to approach the issue of unification in easier and more fun ways in the time of peace.', 'First of all, it is currently snowing slightly or snow flutters lightly son the central region and the west coast of Honam except the east coast of Gangwon.', 'The specific agenda has not been decided yet, but it is expected to proceed with detailed consultations following the suspension of the UFG coalition training announced by the US Department of Defense on the 19th.', 'Lego City and the series Lego Ninjago are recommended to the boys of this age.', 'The representive Sohn apparently chose to make a head-on breakthrough during the leadership meeting amid the calls for his resignation led by the supreme council members.']\n"
     ]
    }
   ],
   "source": [
    "Kor_list = list(data['Korean']) #모든 한글 문장이 담긴 리스트\n",
    "Eng_list = list(data['English']) #모든 영어 문장이 담긴 리스트\n",
    "\n",
    "print(Kor_list[:5])\n",
    "print(\"\\n\")\n",
    "print(Eng_list[:5])"
   ]
  },
  {
   "cell_type": "code",
   "execution_count": 7,
   "metadata": {},
   "outputs": [],
   "source": [
    "result = list(zip(Kor_list,Eng_list))\n",
    "\n",
    "random.shuffle(result)\n",
    "result \n",
    "\n",
    "Kor_list, Eng_list = zip(*result)"
   ]
  },
  {
   "cell_type": "code",
   "execution_count": 8,
   "metadata": {},
   "outputs": [],
   "source": [
    "dict_ = {\"Korean\": [], \"English\" : []}\n",
    "dict_[\"Korean\"] = Kor_list\n",
    "dict_[\"English\"] = Eng_list"
   ]
  },
  {
   "cell_type": "code",
   "execution_count": 9,
   "metadata": {},
   "outputs": [
    {
     "data": {
      "text/html": [
       "<div>\n",
       "<style scoped>\n",
       "    .dataframe tbody tr th:only-of-type {\n",
       "        vertical-align: middle;\n",
       "    }\n",
       "\n",
       "    .dataframe tbody tr th {\n",
       "        vertical-align: top;\n",
       "    }\n",
       "\n",
       "    .dataframe thead th {\n",
       "        text-align: right;\n",
       "    }\n",
       "</style>\n",
       "<table border=\"1\" class=\"dataframe\">\n",
       "  <thead>\n",
       "    <tr style=\"text-align: right;\">\n",
       "      <th></th>\n",
       "      <th>Korean</th>\n",
       "      <th>English</th>\n",
       "    </tr>\n",
       "  </thead>\n",
       "  <tbody>\n",
       "    <tr>\n",
       "      <td>0</td>\n",
       "      <td>그녀는 이 음식점에서 먹기를 원했습니다.</td>\n",
       "      <td>She wanted to have food at this restaurant.</td>\n",
       "    </tr>\n",
       "    <tr>\n",
       "      <td>1</td>\n",
       "      <td>서 검사는 “이게 일반적인 사건이라면 그렇게 (피해자 의사를) 세분화해서 들어가야 ...</td>\n",
       "      <td>”If this is a common case, we should go into d...</td>\n",
       "    </tr>\n",
       "    <tr>\n",
       "      <td>2</td>\n",
       "      <td>최근 페이스북과 유튜브, 애플 등이 편파적 발언으로 혐오와 음모론을 확산시킨다며 &lt;...</td>\n",
       "      <td>Recently, Facebook, YouTube, and Apple have de...</td>\n",
       "    </tr>\n",
       "    <tr>\n",
       "      <td>3</td>\n",
       "      <td>네, 금액은 30,000원이고 결제는 어떻게 하시겠어요?</td>\n",
       "      <td>It's 30,000 won and how would you like to pay?</td>\n",
       "    </tr>\n",
       "    <tr>\n",
       "      <td>4</td>\n",
       "      <td>가수 정인이 딸 조은 양의 일상을 공개했다.</td>\n",
       "      <td>Singer Jung-in revealed the daily lives of her...</td>\n",
       "    </tr>\n",
       "    <tr>\n",
       "      <td>...</td>\n",
       "      <td>...</td>\n",
       "      <td>...</td>\n",
       "    </tr>\n",
       "    <tr>\n",
       "      <td>1606021</td>\n",
       "      <td>구청장은 제1항에 따른 무단방치 자전거 회수 및 수리 업무를 위탁할 수 있다.</td>\n",
       "      <td>The head of the Gu may entrust affairs related...</td>\n",
       "    </tr>\n",
       "    <tr>\n",
       "      <td>1606022</td>\n",
       "      <td>나는 어렸을 적부터 장난이 많고 웃음이 많은 아이였어요.</td>\n",
       "      <td>Since I was a child, I was a playful and laugh...</td>\n",
       "    </tr>\n",
       "    <tr>\n",
       "      <td>1606023</td>\n",
       "      <td>서울대병원(원장 서창석)은 박창민 영상의학과 교수와 인공지능(AI) 기업 루닛 공동...</td>\n",
       "      <td>\"Seoul National University Hospital (President...</td>\n",
       "    </tr>\n",
       "    <tr>\n",
       "      <td>1606024</td>\n",
       "      <td>비핵화를 둘러싼 북미의 기싸움이 장기전 양상으로 돌입하고 있다.</td>\n",
       "      <td>The North Korea-U.S. staring contest over denu...</td>\n",
       "    </tr>\n",
       "    <tr>\n",
       "      <td>1606025</td>\n",
       "      <td>그럼 제가 평소에 입던 거랑 똑같군요, L 사이즈를 주문해야겠어요.</td>\n",
       "      <td>Then it's the same as what I usually wear, I w...</td>\n",
       "    </tr>\n",
       "  </tbody>\n",
       "</table>\n",
       "<p>1606026 rows × 2 columns</p>\n",
       "</div>"
      ],
      "text/plain": [
       "                                                    Korean  \\\n",
       "0                                   그녀는 이 음식점에서 먹기를 원했습니다.   \n",
       "1        서 검사는 “이게 일반적인 사건이라면 그렇게 (피해자 의사를) 세분화해서 들어가야 ...   \n",
       "2        최근 페이스북과 유튜브, 애플 등이 편파적 발언으로 혐오와 음모론을 확산시킨다며 <...   \n",
       "3                          네, 금액은 30,000원이고 결제는 어떻게 하시겠어요?   \n",
       "4                                 가수 정인이 딸 조은 양의 일상을 공개했다.   \n",
       "...                                                    ...   \n",
       "1606021        구청장은 제1항에 따른 무단방치 자전거 회수 및 수리 업무를 위탁할 수 있다.   \n",
       "1606022                    나는 어렸을 적부터 장난이 많고 웃음이 많은 아이였어요.   \n",
       "1606023  서울대병원(원장 서창석)은 박창민 영상의학과 교수와 인공지능(AI) 기업 루닛 공동...   \n",
       "1606024                비핵화를 둘러싼 북미의 기싸움이 장기전 양상으로 돌입하고 있다.   \n",
       "1606025              그럼 제가 평소에 입던 거랑 똑같군요, L 사이즈를 주문해야겠어요.   \n",
       "\n",
       "                                                   English  \n",
       "0              She wanted to have food at this restaurant.  \n",
       "1        ”If this is a common case, we should go into d...  \n",
       "2        Recently, Facebook, YouTube, and Apple have de...  \n",
       "3           It's 30,000 won and how would you like to pay?  \n",
       "4        Singer Jung-in revealed the daily lives of her...  \n",
       "...                                                    ...  \n",
       "1606021  The head of the Gu may entrust affairs related...  \n",
       "1606022  Since I was a child, I was a playful and laugh...  \n",
       "1606023  \"Seoul National University Hospital (President...  \n",
       "1606024  The North Korea-U.S. staring contest over denu...  \n",
       "1606025  Then it's the same as what I usually wear, I w...  \n",
       "\n",
       "[1606026 rows x 2 columns]"
      ]
     },
     "execution_count": 9,
     "metadata": {},
     "output_type": "execute_result"
    }
   ],
   "source": [
    "data = pd.DataFrame(dict_)\n",
    "data"
   ]
  },
  {
   "cell_type": "markdown",
   "metadata": {},
   "source": [
    "## 2. 데이터 중복 검사 및 제거"
   ]
  },
  {
   "cell_type": "code",
   "execution_count": 10,
   "metadata": {},
   "outputs": [
    {
     "data": {
      "text/html": [
       "<div>\n",
       "<style scoped>\n",
       "    .dataframe tbody tr th:only-of-type {\n",
       "        vertical-align: middle;\n",
       "    }\n",
       "\n",
       "    .dataframe tbody tr th {\n",
       "        vertical-align: top;\n",
       "    }\n",
       "\n",
       "    .dataframe thead th {\n",
       "        text-align: right;\n",
       "    }\n",
       "</style>\n",
       "<table border=\"1\" class=\"dataframe\">\n",
       "  <thead>\n",
       "    <tr style=\"text-align: right;\">\n",
       "      <th></th>\n",
       "      <th>Korean</th>\n",
       "      <th>English</th>\n",
       "    </tr>\n",
       "  </thead>\n",
       "  <tbody>\n",
       "    <tr>\n",
       "      <td>count</td>\n",
       "      <td>1606026</td>\n",
       "      <td>1606026</td>\n",
       "    </tr>\n",
       "    <tr>\n",
       "      <td>unique</td>\n",
       "      <td>1603111</td>\n",
       "      <td>1601859</td>\n",
       "    </tr>\n",
       "    <tr>\n",
       "      <td>top</td>\n",
       "      <td>뭔가 할 말이 있니?</td>\n",
       "      <td>Korea went to the public hearing with everyone...</td>\n",
       "    </tr>\n",
       "    <tr>\n",
       "      <td>freq</td>\n",
       "      <td>5</td>\n",
       "      <td>27</td>\n",
       "    </tr>\n",
       "  </tbody>\n",
       "</table>\n",
       "</div>"
      ],
      "text/plain": [
       "             Korean                                            English\n",
       "count       1606026                                            1606026\n",
       "unique      1603111                                            1601859\n",
       "top     뭔가 할 말이 있니?  Korea went to the public hearing with everyone...\n",
       "freq              5                                                 27"
      ]
     },
     "execution_count": 10,
     "metadata": {},
     "output_type": "execute_result"
    }
   ],
   "source": [
    "data.describe()"
   ]
  },
  {
   "cell_type": "code",
   "execution_count": 11,
   "metadata": {},
   "outputs": [
    {
     "data": {
      "text/plain": [
       "2497"
      ]
     },
     "execution_count": 11,
     "metadata": {},
     "output_type": "execute_result"
    }
   ],
   "source": [
    "data.duplicated().sum()"
   ]
  },
  {
   "cell_type": "code",
   "execution_count": 12,
   "metadata": {},
   "outputs": [],
   "source": [
    "data = data.drop_duplicates()"
   ]
  },
  {
   "cell_type": "code",
   "execution_count": 13,
   "metadata": {},
   "outputs": [
    {
     "data": {
      "text/plain": [
       "0"
      ]
     },
     "execution_count": 13,
     "metadata": {},
     "output_type": "execute_result"
    }
   ],
   "source": [
    "data.duplicated().sum()"
   ]
  },
  {
   "cell_type": "code",
   "execution_count": 14,
   "metadata": {},
   "outputs": [],
   "source": [
    "data = data.reset_index(drop=True) # 0~20만, 0~20만 이런 인덱스까지 concat 되었던 것을 초기화, 다시 인덱스 주었다"
   ]
  },
  {
   "cell_type": "code",
   "execution_count": 15,
   "metadata": {
    "scrolled": false
   },
   "outputs": [
    {
     "data": {
      "text/html": [
       "<div>\n",
       "<style scoped>\n",
       "    .dataframe tbody tr th:only-of-type {\n",
       "        vertical-align: middle;\n",
       "    }\n",
       "\n",
       "    .dataframe tbody tr th {\n",
       "        vertical-align: top;\n",
       "    }\n",
       "\n",
       "    .dataframe thead th {\n",
       "        text-align: right;\n",
       "    }\n",
       "</style>\n",
       "<table border=\"1\" class=\"dataframe\">\n",
       "  <thead>\n",
       "    <tr style=\"text-align: right;\">\n",
       "      <th></th>\n",
       "      <th>Korean</th>\n",
       "      <th>English</th>\n",
       "    </tr>\n",
       "  </thead>\n",
       "  <tbody>\n",
       "    <tr>\n",
       "      <td>0</td>\n",
       "      <td>그녀는 이 음식점에서 먹기를 원했습니다.</td>\n",
       "      <td>She wanted to have food at this restaurant.</td>\n",
       "    </tr>\n",
       "    <tr>\n",
       "      <td>1</td>\n",
       "      <td>서 검사는 “이게 일반적인 사건이라면 그렇게 (피해자 의사를) 세분화해서 들어가야 ...</td>\n",
       "      <td>”If this is a common case, we should go into d...</td>\n",
       "    </tr>\n",
       "    <tr>\n",
       "      <td>2</td>\n",
       "      <td>최근 페이스북과 유튜브, 애플 등이 편파적 발언으로 혐오와 음모론을 확산시킨다며 &lt;...</td>\n",
       "      <td>Recently, Facebook, YouTube, and Apple have de...</td>\n",
       "    </tr>\n",
       "    <tr>\n",
       "      <td>3</td>\n",
       "      <td>네, 금액은 30,000원이고 결제는 어떻게 하시겠어요?</td>\n",
       "      <td>It's 30,000 won and how would you like to pay?</td>\n",
       "    </tr>\n",
       "    <tr>\n",
       "      <td>4</td>\n",
       "      <td>가수 정인이 딸 조은 양의 일상을 공개했다.</td>\n",
       "      <td>Singer Jung-in revealed the daily lives of her...</td>\n",
       "    </tr>\n",
       "    <tr>\n",
       "      <td>...</td>\n",
       "      <td>...</td>\n",
       "      <td>...</td>\n",
       "    </tr>\n",
       "    <tr>\n",
       "      <td>1603524</td>\n",
       "      <td>구청장은 제1항에 따른 무단방치 자전거 회수 및 수리 업무를 위탁할 수 있다.</td>\n",
       "      <td>The head of the Gu may entrust affairs related...</td>\n",
       "    </tr>\n",
       "    <tr>\n",
       "      <td>1603525</td>\n",
       "      <td>나는 어렸을 적부터 장난이 많고 웃음이 많은 아이였어요.</td>\n",
       "      <td>Since I was a child, I was a playful and laugh...</td>\n",
       "    </tr>\n",
       "    <tr>\n",
       "      <td>1603526</td>\n",
       "      <td>서울대병원(원장 서창석)은 박창민 영상의학과 교수와 인공지능(AI) 기업 루닛 공동...</td>\n",
       "      <td>\"Seoul National University Hospital (President...</td>\n",
       "    </tr>\n",
       "    <tr>\n",
       "      <td>1603527</td>\n",
       "      <td>비핵화를 둘러싼 북미의 기싸움이 장기전 양상으로 돌입하고 있다.</td>\n",
       "      <td>The North Korea-U.S. staring contest over denu...</td>\n",
       "    </tr>\n",
       "    <tr>\n",
       "      <td>1603528</td>\n",
       "      <td>그럼 제가 평소에 입던 거랑 똑같군요, L 사이즈를 주문해야겠어요.</td>\n",
       "      <td>Then it's the same as what I usually wear, I w...</td>\n",
       "    </tr>\n",
       "  </tbody>\n",
       "</table>\n",
       "<p>1603529 rows × 2 columns</p>\n",
       "</div>"
      ],
      "text/plain": [
       "                                                    Korean  \\\n",
       "0                                   그녀는 이 음식점에서 먹기를 원했습니다.   \n",
       "1        서 검사는 “이게 일반적인 사건이라면 그렇게 (피해자 의사를) 세분화해서 들어가야 ...   \n",
       "2        최근 페이스북과 유튜브, 애플 등이 편파적 발언으로 혐오와 음모론을 확산시킨다며 <...   \n",
       "3                          네, 금액은 30,000원이고 결제는 어떻게 하시겠어요?   \n",
       "4                                 가수 정인이 딸 조은 양의 일상을 공개했다.   \n",
       "...                                                    ...   \n",
       "1603524        구청장은 제1항에 따른 무단방치 자전거 회수 및 수리 업무를 위탁할 수 있다.   \n",
       "1603525                    나는 어렸을 적부터 장난이 많고 웃음이 많은 아이였어요.   \n",
       "1603526  서울대병원(원장 서창석)은 박창민 영상의학과 교수와 인공지능(AI) 기업 루닛 공동...   \n",
       "1603527                비핵화를 둘러싼 북미의 기싸움이 장기전 양상으로 돌입하고 있다.   \n",
       "1603528              그럼 제가 평소에 입던 거랑 똑같군요, L 사이즈를 주문해야겠어요.   \n",
       "\n",
       "                                                   English  \n",
       "0              She wanted to have food at this restaurant.  \n",
       "1        ”If this is a common case, we should go into d...  \n",
       "2        Recently, Facebook, YouTube, and Apple have de...  \n",
       "3           It's 30,000 won and how would you like to pay?  \n",
       "4        Singer Jung-in revealed the daily lives of her...  \n",
       "...                                                    ...  \n",
       "1603524  The head of the Gu may entrust affairs related...  \n",
       "1603525  Since I was a child, I was a playful and laugh...  \n",
       "1603526  \"Seoul National University Hospital (President...  \n",
       "1603527  The North Korea-U.S. staring contest over denu...  \n",
       "1603528  Then it's the same as what I usually wear, I w...  \n",
       "\n",
       "[1603529 rows x 2 columns]"
      ]
     },
     "execution_count": 15,
     "metadata": {},
     "output_type": "execute_result"
    }
   ],
   "source": [
    "data"
   ]
  },
  {
   "cell_type": "code",
   "execution_count": null,
   "metadata": {},
   "outputs": [],
   "source": [
    "#data.to_csv(\"datalist.csv\", encoding = 'utf-8-sig', index = False, mode = \"w\")"
   ]
  },
  {
   "cell_type": "markdown",
   "metadata": {},
   "source": [
    "## 3. 문장별 단어 개수 파악 & 문제 파악"
   ]
  },
  {
   "cell_type": "code",
   "execution_count": 16,
   "metadata": {},
   "outputs": [],
   "source": [
    "kor_word_cnt = []\n",
    "eng_word_cnt = []\n",
    "for i in range(len(data)):\n",
    "    kor_word_cnt.append(len(data['Korean'][i].split(\" \")))\n",
    "    eng_word_cnt.append(len(data['English'][i].split(\" \")))"
   ]
  },
  {
   "cell_type": "code",
   "execution_count": 17,
   "metadata": {},
   "outputs": [],
   "source": [
    "data[\"Korean_word_count\"] = kor_word_cnt\n",
    "data[\"English_word_count\"] = eng_word_cnt"
   ]
  },
  {
   "cell_type": "markdown",
   "metadata": {},
   "source": [
    "### (1) 단어 개수 별 정렬해 데이터 확인 & 문제 수정"
   ]
  },
  {
   "cell_type": "code",
   "execution_count": 18,
   "metadata": {},
   "outputs": [],
   "source": [
    "kor_sorted = data.sort_values(by=['Korean_word_count'], axis=0, ascending=False)"
   ]
  },
  {
   "cell_type": "code",
   "execution_count": 19,
   "metadata": {},
   "outputs": [
    {
     "data": {
      "text/html": [
       "<div>\n",
       "<style scoped>\n",
       "    .dataframe tbody tr th:only-of-type {\n",
       "        vertical-align: middle;\n",
       "    }\n",
       "\n",
       "    .dataframe tbody tr th {\n",
       "        vertical-align: top;\n",
       "    }\n",
       "\n",
       "    .dataframe thead th {\n",
       "        text-align: right;\n",
       "    }\n",
       "</style>\n",
       "<table border=\"1\" class=\"dataframe\">\n",
       "  <thead>\n",
       "    <tr style=\"text-align: right;\">\n",
       "      <th></th>\n",
       "      <th>Korean</th>\n",
       "      <th>English</th>\n",
       "      <th>Korean_word_count</th>\n",
       "      <th>English_word_count</th>\n",
       "    </tr>\n",
       "  </thead>\n",
       "  <tbody>\n",
       "    <tr>\n",
       "      <td>0</td>\n",
       "      <td>의심의 여지 없이 세상에는 어떤 남자이든 정확히 딱 알맞는 여자와 결혼하거나 그 반...</td>\n",
       "      <td>Doubtless there exists in this world precisely...</td>\n",
       "      <td>89</td>\n",
       "      <td>101</td>\n",
       "    </tr>\n",
       "    <tr>\n",
       "      <td>1</td>\n",
       "      <td>일단의 토지면적이 특별시·광역시 및 시지역에서 1,000제곱미터 이하, 그 밖의 지...</td>\n",
       "      <td>Where land that has buildings that are not own...</td>\n",
       "      <td>78</td>\n",
       "      <td>165</td>\n",
       "    </tr>\n",
       "    <tr>\n",
       "      <td>2</td>\n",
       "      <td>제8조의2(과태료의 부과 및 징수) ① 제8조제1항의 요구를 받은 자가 이에 따를 ...</td>\n",
       "      <td>Article 8-2 (Imposition and Collection of Fine...</td>\n",
       "      <td>71</td>\n",
       "      <td>139</td>\n",
       "    </tr>\n",
       "    <tr>\n",
       "      <td>3</td>\n",
       "      <td>부칙 제2조「표 1」규정의 시행으로 감축되는 정원 27명(집행기관의 정원 27명)에...</td>\n",
       "      <td>Where there the current employees are in exces...</td>\n",
       "      <td>64</td>\n",
       "      <td>158</td>\n",
       "    </tr>\n",
       "    <tr>\n",
       "      <td>4</td>\n",
       "      <td>「옥외광고물 등의 관리와 옥외광고산업 진흥에 관한 법률 시행령」(이하 “영”이라 한...</td>\n",
       "      <td>Where filing an application for permission in ...</td>\n",
       "      <td>62</td>\n",
       "      <td>122</td>\n",
       "    </tr>\n",
       "  </tbody>\n",
       "</table>\n",
       "</div>"
      ],
      "text/plain": [
       "                                              Korean  \\\n",
       "0  의심의 여지 없이 세상에는 어떤 남자이든 정확히 딱 알맞는 여자와 결혼하거나 그 반...   \n",
       "1  일단의 토지면적이 특별시·광역시 및 시지역에서 1,000제곱미터 이하, 그 밖의 지...   \n",
       "2  제8조의2(과태료의 부과 및 징수) ① 제8조제1항의 요구를 받은 자가 이에 따를 ...   \n",
       "3  부칙 제2조「표 1」규정의 시행으로 감축되는 정원 27명(집행기관의 정원 27명)에...   \n",
       "4  「옥외광고물 등의 관리와 옥외광고산업 진흥에 관한 법률 시행령」(이하 “영”이라 한...   \n",
       "\n",
       "                                             English  Korean_word_count  \\\n",
       "0  Doubtless there exists in this world precisely...                 89   \n",
       "1  Where land that has buildings that are not own...                 78   \n",
       "2  Article 8-2 (Imposition and Collection of Fine...                 71   \n",
       "3  Where there the current employees are in exces...                 64   \n",
       "4  Where filing an application for permission in ...                 62   \n",
       "\n",
       "   English_word_count  \n",
       "0                 101  \n",
       "1                 165  \n",
       "2                 139  \n",
       "3                 158  \n",
       "4                 122  "
      ]
     },
     "execution_count": 19,
     "metadata": {},
     "output_type": "execute_result"
    }
   ],
   "source": [
    "kor_sorted = kor_sorted.reset_index(drop=True)\n",
    "kor_sorted.head()"
   ]
  },
  {
   "cell_type": "code",
   "execution_count": 20,
   "metadata": {},
   "outputs": [
    {
     "data": {
      "text/html": [
       "<div>\n",
       "<style scoped>\n",
       "    .dataframe tbody tr th:only-of-type {\n",
       "        vertical-align: middle;\n",
       "    }\n",
       "\n",
       "    .dataframe tbody tr th {\n",
       "        vertical-align: top;\n",
       "    }\n",
       "\n",
       "    .dataframe thead th {\n",
       "        text-align: right;\n",
       "    }\n",
       "</style>\n",
       "<table border=\"1\" class=\"dataframe\">\n",
       "  <thead>\n",
       "    <tr style=\"text-align: right;\">\n",
       "      <th></th>\n",
       "      <th>Korean</th>\n",
       "      <th>English</th>\n",
       "      <th>Korean_word_count</th>\n",
       "      <th>English_word_count</th>\n",
       "    </tr>\n",
       "  </thead>\n",
       "  <tbody>\n",
       "    <tr>\n",
       "      <td>0</td>\n",
       "      <td>의심의 여지 없이 세상에는 어떤 남자이든 정확히 딱 알맞는 여자와 결혼하거나 그 반...</td>\n",
       "      <td>Doubtless there exists in this world precisely...</td>\n",
       "      <td>89</td>\n",
       "      <td>101</td>\n",
       "    </tr>\n",
       "    <tr>\n",
       "      <td>1</td>\n",
       "      <td>일단의 토지면적이 특별시·광역시 및 시지역에서 1,000제곱미터 이하, 그 밖의 지...</td>\n",
       "      <td>Where land that has buildings that are not own...</td>\n",
       "      <td>78</td>\n",
       "      <td>165</td>\n",
       "    </tr>\n",
       "    <tr>\n",
       "      <td>2</td>\n",
       "      <td>제8조의2(과태료의 부과 및 징수) ① 제8조제1항의 요구를 받은 자가 이에 따를 ...</td>\n",
       "      <td>Article 8-2 (Imposition and Collection of Fine...</td>\n",
       "      <td>71</td>\n",
       "      <td>139</td>\n",
       "    </tr>\n",
       "    <tr>\n",
       "      <td>3</td>\n",
       "      <td>부칙 제2조「표 1」규정의 시행으로 감축되는 정원 27명(집행기관의 정원 27명)에...</td>\n",
       "      <td>Where there the current employees are in exces...</td>\n",
       "      <td>64</td>\n",
       "      <td>158</td>\n",
       "    </tr>\n",
       "    <tr>\n",
       "      <td>4</td>\n",
       "      <td>「옥외광고물 등의 관리와 옥외광고산업 진흥에 관한 법률 시행령」(이하 “영”이라 한...</td>\n",
       "      <td>Where filing an application for permission in ...</td>\n",
       "      <td>62</td>\n",
       "      <td>122</td>\n",
       "    </tr>\n",
       "    <tr>\n",
       "      <td>5</td>\n",
       "      <td>구청장은 신·재생에너지의 보급 확대를 위하여 행정재산 및 일반재산을 사용·수익허가 ...</td>\n",
       "      <td>In order to increase the supply of new and ren...</td>\n",
       "      <td>61</td>\n",
       "      <td>133</td>\n",
       "    </tr>\n",
       "    <tr>\n",
       "      <td>6</td>\n",
       "      <td>“음식물류 폐기물 다량배출사업장”이란 「폐기물관리법 시행령」 제8조의4에서 정한 음...</td>\n",
       "      <td>The term \"Business sites discharging large amo...</td>\n",
       "      <td>59</td>\n",
       "      <td>141</td>\n",
       "    </tr>\n",
       "    <tr>\n",
       "      <td>7</td>\n",
       "      <td>이 조례에 따라 구세를 감면받고자 하는 자는 「지방세특례제한법 시행규칙」 별지 제1...</td>\n",
       "      <td>Any person who intends to receive a reduction ...</td>\n",
       "      <td>59</td>\n",
       "      <td>148</td>\n",
       "    </tr>\n",
       "    <tr>\n",
       "      <td>8</td>\n",
       "      <td>서울특별시 노원구청장(이하 “구청장”이라 한다)은 위임받은 서울특별시 시세(이하 “...</td>\n",
       "      <td>The head of Nowon-gu Seoul Metropolitan Govern...</td>\n",
       "      <td>56</td>\n",
       "      <td>156</td>\n",
       "    </tr>\n",
       "    <tr>\n",
       "      <td>9</td>\n",
       "      <td>구청장은 「비영리민간단체지원법」에 따른 비영리 민간단체, 「민법」에 따른 비영리 법...</td>\n",
       "      <td>The head of the Gu may designate organizations...</td>\n",
       "      <td>54</td>\n",
       "      <td>99</td>\n",
       "    </tr>\n",
       "  </tbody>\n",
       "</table>\n",
       "</div>"
      ],
      "text/plain": [
       "                                              Korean  \\\n",
       "0  의심의 여지 없이 세상에는 어떤 남자이든 정확히 딱 알맞는 여자와 결혼하거나 그 반...   \n",
       "1  일단의 토지면적이 특별시·광역시 및 시지역에서 1,000제곱미터 이하, 그 밖의 지...   \n",
       "2  제8조의2(과태료의 부과 및 징수) ① 제8조제1항의 요구를 받은 자가 이에 따를 ...   \n",
       "3  부칙 제2조「표 1」규정의 시행으로 감축되는 정원 27명(집행기관의 정원 27명)에...   \n",
       "4  「옥외광고물 등의 관리와 옥외광고산업 진흥에 관한 법률 시행령」(이하 “영”이라 한...   \n",
       "5  구청장은 신·재생에너지의 보급 확대를 위하여 행정재산 및 일반재산을 사용·수익허가 ...   \n",
       "6  “음식물류 폐기물 다량배출사업장”이란 「폐기물관리법 시행령」 제8조의4에서 정한 음...   \n",
       "7  이 조례에 따라 구세를 감면받고자 하는 자는 「지방세특례제한법 시행규칙」 별지 제1...   \n",
       "8  서울특별시 노원구청장(이하 “구청장”이라 한다)은 위임받은 서울특별시 시세(이하 “...   \n",
       "9  구청장은 「비영리민간단체지원법」에 따른 비영리 민간단체, 「민법」에 따른 비영리 법...   \n",
       "\n",
       "                                             English  Korean_word_count  \\\n",
       "0  Doubtless there exists in this world precisely...                 89   \n",
       "1  Where land that has buildings that are not own...                 78   \n",
       "2  Article 8-2 (Imposition and Collection of Fine...                 71   \n",
       "3  Where there the current employees are in exces...                 64   \n",
       "4  Where filing an application for permission in ...                 62   \n",
       "5  In order to increase the supply of new and ren...                 61   \n",
       "6  The term \"Business sites discharging large amo...                 59   \n",
       "7  Any person who intends to receive a reduction ...                 59   \n",
       "8  The head of Nowon-gu Seoul Metropolitan Govern...                 56   \n",
       "9  The head of the Gu may designate organizations...                 54   \n",
       "\n",
       "   English_word_count  \n",
       "0                 101  \n",
       "1                 165  \n",
       "2                 139  \n",
       "3                 158  \n",
       "4                 122  \n",
       "5                 133  \n",
       "6                 141  \n",
       "7                 148  \n",
       "8                 156  \n",
       "9                  99  "
      ]
     },
     "execution_count": 20,
     "metadata": {},
     "output_type": "execute_result"
    }
   ],
   "source": [
    "kor_sorted[0:10]"
   ]
  },
  {
   "cell_type": "code",
   "execution_count": 21,
   "metadata": {},
   "outputs": [
    {
     "data": {
      "text/html": [
       "<div>\n",
       "<style scoped>\n",
       "    .dataframe tbody tr th:only-of-type {\n",
       "        vertical-align: middle;\n",
       "    }\n",
       "\n",
       "    .dataframe tbody tr th {\n",
       "        vertical-align: top;\n",
       "    }\n",
       "\n",
       "    .dataframe thead th {\n",
       "        text-align: right;\n",
       "    }\n",
       "</style>\n",
       "<table border=\"1\" class=\"dataframe\">\n",
       "  <thead>\n",
       "    <tr style=\"text-align: right;\">\n",
       "      <th></th>\n",
       "      <th>Korean</th>\n",
       "      <th>English</th>\n",
       "      <th>Korean_word_count</th>\n",
       "      <th>English_word_count</th>\n",
       "    </tr>\n",
       "  </thead>\n",
       "  <tbody>\n",
       "    <tr>\n",
       "      <td>1603519</td>\n",
       "      <td>열두가지 재주 있는 사람이 밥을 굶어.</td>\n",
       "      <td>Jack of all trades, and master of none.</td>\n",
       "      <td>1</td>\n",
       "      <td>8</td>\n",
       "    </tr>\n",
       "    <tr>\n",
       "      <td>1603520</td>\n",
       "      <td>수정해드릴게요.</td>\n",
       "      <td>I will change it.</td>\n",
       "      <td>1</td>\n",
       "      <td>4</td>\n",
       "    </tr>\n",
       "    <tr>\n",
       "      <td>1603521</td>\n",
       "      <td>겉만 보고 판단하지 마세요.</td>\n",
       "      <td>All is not gold that glitters.</td>\n",
       "      <td>1</td>\n",
       "      <td>6</td>\n",
       "    </tr>\n",
       "    <tr>\n",
       "      <td>1603522</td>\n",
       "      <td>실제로 학생들이 사용하는 곳이며 관광객들에게 있는 명소입니다.</td>\n",
       "      <td>Students use this place and is an attraction f...</td>\n",
       "      <td>1</td>\n",
       "      <td>10</td>\n",
       "    </tr>\n",
       "    <tr>\n",
       "      <td>1603523</td>\n",
       "      <td>잊어버렸어.</td>\n",
       "      <td>I forgot.</td>\n",
       "      <td>1</td>\n",
       "      <td>2</td>\n",
       "    </tr>\n",
       "    <tr>\n",
       "      <td>1603524</td>\n",
       "      <td>친구와 포도주는 오래된 것이 좋습니다.</td>\n",
       "      <td>Old friends and old wine are best.</td>\n",
       "      <td>1</td>\n",
       "      <td>7</td>\n",
       "    </tr>\n",
       "    <tr>\n",
       "      <td>1603525</td>\n",
       "      <td>물론이죠.</td>\n",
       "      <td>Of course.</td>\n",
       "      <td>1</td>\n",
       "      <td>2</td>\n",
       "    </tr>\n",
       "    <tr>\n",
       "      <td>1603526</td>\n",
       "      <td>계획은 인간이 하고 성패는 하늘이 다룹니다.</td>\n",
       "      <td>Man proposes and God disposes.</td>\n",
       "      <td>1</td>\n",
       "      <td>5</td>\n",
       "    </tr>\n",
       "    <tr>\n",
       "      <td>1603527</td>\n",
       "      <td>축하해!</td>\n",
       "      <td>Congratulations!</td>\n",
       "      <td>1</td>\n",
       "      <td>1</td>\n",
       "    </tr>\n",
       "    <tr>\n",
       "      <td>1603528</td>\n",
       "      <td>안녕!</td>\n",
       "      <td>Goodbye!</td>\n",
       "      <td>1</td>\n",
       "      <td>1</td>\n",
       "    </tr>\n",
       "  </tbody>\n",
       "</table>\n",
       "</div>"
      ],
      "text/plain": [
       "                                     Korean  \\\n",
       "1603519               열두가지 재주 있는 사람이 밥을 굶어.   \n",
       "1603520                            수정해드릴게요.   \n",
       "1603521                     겉만 보고 판단하지 마세요.   \n",
       "1603522  실제로 학생들이 사용하는 곳이며 관광객들에게 있는 명소입니다.   \n",
       "1603523                              잊어버렸어.   \n",
       "1603524               친구와 포도주는 오래된 것이 좋습니다.   \n",
       "1603525                               물론이죠.   \n",
       "1603526            계획은 인간이 하고 성패는 하늘이 다룹니다.   \n",
       "1603527                                축하해!   \n",
       "1603528                                 안녕!   \n",
       "\n",
       "                                                   English  Korean_word_count  \\\n",
       "1603519            Jack of all trades, and master of none.                  1   \n",
       "1603520                                  I will change it.                  1   \n",
       "1603521                     All is not gold that glitters.                  1   \n",
       "1603522  Students use this place and is an attraction f...                  1   \n",
       "1603523                                          I forgot.                  1   \n",
       "1603524                 Old friends and old wine are best.                  1   \n",
       "1603525                                         Of course.                  1   \n",
       "1603526                     Man proposes and God disposes.                  1   \n",
       "1603527                                   Congratulations!                  1   \n",
       "1603528                                           Goodbye!                  1   \n",
       "\n",
       "         English_word_count  \n",
       "1603519                   8  \n",
       "1603520                   4  \n",
       "1603521                   6  \n",
       "1603522                  10  \n",
       "1603523                   2  \n",
       "1603524                   7  \n",
       "1603525                   2  \n",
       "1603526                   5  \n",
       "1603527                   1  \n",
       "1603528                   1  "
      ]
     },
     "execution_count": 21,
     "metadata": {},
     "output_type": "execute_result"
    }
   ],
   "source": [
    "kor_sorted[-10:]"
   ]
  },
  {
   "cell_type": "markdown",
   "metadata": {},
   "source": [
    "#### 문제 발견 및 수정, 데이터 재저장"
   ]
  },
  {
   "cell_type": "code",
   "execution_count": 22,
   "metadata": {},
   "outputs": [
    {
     "data": {
      "text/plain": [
       "'잊어버렸어.'"
      ]
     },
     "execution_count": 22,
     "metadata": {},
     "output_type": "execute_result"
    }
   ],
   "source": [
    "kor_sorted[\"Korean\"][1603523]"
   ]
  },
  {
   "cell_type": "code",
   "execution_count": 23,
   "metadata": {},
   "outputs": [
    {
     "data": {
      "text/plain": [
       "'친구와\\xa0포도주는\\xa0오래된\\xa0것이\\xa0좋습니다.'"
      ]
     },
     "execution_count": 23,
     "metadata": {},
     "output_type": "execute_result"
    }
   ],
   "source": [
    "kor_sorted[\"Korean\"][1603524]"
   ]
  },
  {
   "cell_type": "code",
   "execution_count": 24,
   "metadata": {},
   "outputs": [
    {
     "data": {
      "text/plain": [
       "'오는\\xa0말이\\xa0고와야\\xa0가는\\xa0말이\\xa0곱습니다.'"
      ]
     },
     "execution_count": 24,
     "metadata": {},
     "output_type": "execute_result"
    }
   ],
   "source": [
    "kor_sorted[\"Korean\"][1603515]"
   ]
  },
  {
   "cell_type": "markdown",
   "metadata": {},
   "source": [
    "중간의 \\xa0 때문에 한 문장이 한 단어로 인식 되었었다. 전체 dataset의 \\xa0 를 \" \" 로 대체해준다.  \n",
    "다시 word를 카운트 해준다."
   ]
  },
  {
   "cell_type": "code",
   "execution_count": 25,
   "metadata": {},
   "outputs": [],
   "source": [
    "data.replace(\"\\xa0\", \" \", regex=True, inplace=True)"
   ]
  },
  {
   "cell_type": "code",
   "execution_count": null,
   "metadata": {},
   "outputs": [],
   "source": [
    "#data"
   ]
  },
  {
   "cell_type": "markdown",
   "metadata": {},
   "source": [
    "---"
   ]
  },
  {
   "cell_type": "markdown",
   "metadata": {},
   "source": [
    "---"
   ]
  },
  {
   "cell_type": "markdown",
   "metadata": {},
   "source": [
    "### (2) 한글 문장 단어 개수 파악 "
   ]
  },
  {
   "cell_type": "code",
   "execution_count": 27,
   "metadata": {},
   "outputs": [
    {
     "ename": "KeyError",
     "evalue": "'Korean_word_count'",
     "output_type": "error",
     "traceback": [
      "\u001b[1;31m---------------------------------------------------------------------------\u001b[0m",
      "\u001b[1;31mKeyError\u001b[0m                                  Traceback (most recent call last)",
      "\u001b[1;32m<ipython-input-27-b7bc721bc380>\u001b[0m in \u001b[0;36m<module>\u001b[1;34m\u001b[0m\n\u001b[1;32m----> 1\u001b[1;33m \u001b[0mkor_sorted\u001b[0m \u001b[1;33m=\u001b[0m \u001b[0mdata\u001b[0m\u001b[1;33m.\u001b[0m\u001b[0msort_values\u001b[0m\u001b[1;33m(\u001b[0m\u001b[0mby\u001b[0m\u001b[1;33m=\u001b[0m\u001b[1;33m[\u001b[0m\u001b[1;34m'Korean_word_count'\u001b[0m\u001b[1;33m]\u001b[0m\u001b[1;33m,\u001b[0m \u001b[0maxis\u001b[0m\u001b[1;33m=\u001b[0m\u001b[1;36m0\u001b[0m\u001b[1;33m,\u001b[0m \u001b[0mascending\u001b[0m\u001b[1;33m=\u001b[0m\u001b[1;32mFalse\u001b[0m\u001b[1;33m)\u001b[0m\u001b[1;33m\u001b[0m\u001b[1;33m\u001b[0m\u001b[0m\n\u001b[0m",
      "\u001b[1;32mC:\\ProgramData\\Anaconda3\\lib\\site-packages\\pandas\\core\\frame.py\u001b[0m in \u001b[0;36msort_values\u001b[1;34m(self, by, axis, ascending, inplace, kind, na_position)\u001b[0m\n\u001b[0;32m   4991\u001b[0m \u001b[1;33m\u001b[0m\u001b[0m\n\u001b[0;32m   4992\u001b[0m             \u001b[0mby\u001b[0m \u001b[1;33m=\u001b[0m \u001b[0mby\u001b[0m\u001b[1;33m[\u001b[0m\u001b[1;36m0\u001b[0m\u001b[1;33m]\u001b[0m\u001b[1;33m\u001b[0m\u001b[1;33m\u001b[0m\u001b[0m\n\u001b[1;32m-> 4993\u001b[1;33m             \u001b[0mk\u001b[0m \u001b[1;33m=\u001b[0m \u001b[0mself\u001b[0m\u001b[1;33m.\u001b[0m\u001b[0m_get_label_or_level_values\u001b[0m\u001b[1;33m(\u001b[0m\u001b[0mby\u001b[0m\u001b[1;33m,\u001b[0m \u001b[0maxis\u001b[0m\u001b[1;33m=\u001b[0m\u001b[0maxis\u001b[0m\u001b[1;33m)\u001b[0m\u001b[1;33m\u001b[0m\u001b[1;33m\u001b[0m\u001b[0m\n\u001b[0m\u001b[0;32m   4994\u001b[0m \u001b[1;33m\u001b[0m\u001b[0m\n\u001b[0;32m   4995\u001b[0m             \u001b[1;32mif\u001b[0m \u001b[0misinstance\u001b[0m\u001b[1;33m(\u001b[0m\u001b[0mascending\u001b[0m\u001b[1;33m,\u001b[0m \u001b[1;33m(\u001b[0m\u001b[0mtuple\u001b[0m\u001b[1;33m,\u001b[0m \u001b[0mlist\u001b[0m\u001b[1;33m)\u001b[0m\u001b[1;33m)\u001b[0m\u001b[1;33m:\u001b[0m\u001b[1;33m\u001b[0m\u001b[1;33m\u001b[0m\u001b[0m\n",
      "\u001b[1;32mC:\\ProgramData\\Anaconda3\\lib\\site-packages\\pandas\\core\\generic.py\u001b[0m in \u001b[0;36m_get_label_or_level_values\u001b[1;34m(self, key, axis)\u001b[0m\n\u001b[0;32m   1772\u001b[0m             \u001b[0mvalues\u001b[0m \u001b[1;33m=\u001b[0m \u001b[0mself\u001b[0m\u001b[1;33m.\u001b[0m\u001b[0maxes\u001b[0m\u001b[1;33m[\u001b[0m\u001b[0maxis\u001b[0m\u001b[1;33m]\u001b[0m\u001b[1;33m.\u001b[0m\u001b[0mget_level_values\u001b[0m\u001b[1;33m(\u001b[0m\u001b[0mkey\u001b[0m\u001b[1;33m)\u001b[0m\u001b[1;33m.\u001b[0m\u001b[0m_values\u001b[0m\u001b[1;33m\u001b[0m\u001b[1;33m\u001b[0m\u001b[0m\n\u001b[0;32m   1773\u001b[0m         \u001b[1;32melse\u001b[0m\u001b[1;33m:\u001b[0m\u001b[1;33m\u001b[0m\u001b[1;33m\u001b[0m\u001b[0m\n\u001b[1;32m-> 1774\u001b[1;33m             \u001b[1;32mraise\u001b[0m \u001b[0mKeyError\u001b[0m\u001b[1;33m(\u001b[0m\u001b[0mkey\u001b[0m\u001b[1;33m)\u001b[0m\u001b[1;33m\u001b[0m\u001b[1;33m\u001b[0m\u001b[0m\n\u001b[0m\u001b[0;32m   1775\u001b[0m \u001b[1;33m\u001b[0m\u001b[0m\n\u001b[0;32m   1776\u001b[0m         \u001b[1;31m# Check for duplicates\u001b[0m\u001b[1;33m\u001b[0m\u001b[1;33m\u001b[0m\u001b[1;33m\u001b[0m\u001b[0m\n",
      "\u001b[1;31mKeyError\u001b[0m: 'Korean_word_count'"
     ]
    }
   ],
   "source": [
    "kor_sorted = data.sort_values(by=['Korean_word_count'], axis=0, ascending=False)"
   ]
  },
  {
   "cell_type": "code",
   "execution_count": null,
   "metadata": {},
   "outputs": [],
   "source": [
    "kor_sorted = kor_sorted.reset_index(drop=True)\n",
    "kor_sorted.head()"
   ]
  },
  {
   "cell_type": "code",
   "execution_count": null,
   "metadata": {},
   "outputs": [],
   "source": [
    "kor_sorted[-110:-90]"
   ]
  },
  {
   "cell_type": "code",
   "execution_count": null,
   "metadata": {},
   "outputs": [],
   "source": [
    "kor_sorted[\"Korean\"][1603427]"
   ]
  },
  {
   "cell_type": "code",
   "execution_count": null,
   "metadata": {},
   "outputs": [],
   "source": [
    "kor_sorted[-130:-110]"
   ]
  },
  {
   "cell_type": "markdown",
   "metadata": {},
   "source": [
    "위와 같이 띄어쓰기가 아예 이루어지지 않은 문장은 어떻게 해야할지 고민 필요."
   ]
  },
  {
   "cell_type": "code",
   "execution_count": null,
   "metadata": {},
   "outputs": [],
   "source": [
    "kor_sorted[0:20]"
   ]
  },
  {
   "cell_type": "markdown",
   "metadata": {},
   "source": [
    "### (3) 영어 문장 단어 개수 파악 "
   ]
  },
  {
   "cell_type": "code",
   "execution_count": null,
   "metadata": {},
   "outputs": [],
   "source": [
    "eng_sorted = data.sort_values(by=['English_word_count'], axis=0, ascending=False)"
   ]
  },
  {
   "cell_type": "code",
   "execution_count": null,
   "metadata": {},
   "outputs": [],
   "source": [
    "eng_sorted = eng_sorted.reset_index(drop=True)"
   ]
  },
  {
   "cell_type": "code",
   "execution_count": null,
   "metadata": {},
   "outputs": [],
   "source": [
    "eng_sorted[:20]"
   ]
  },
  {
   "cell_type": "code",
   "execution_count": null,
   "metadata": {},
   "outputs": [],
   "source": [
    "eng_sorted['English'][0]"
   ]
  },
  {
   "cell_type": "code",
   "execution_count": null,
   "metadata": {},
   "outputs": [],
   "source": [
    "eng_sorted['English'][1]"
   ]
  },
  {
   "cell_type": "code",
   "execution_count": null,
   "metadata": {},
   "outputs": [],
   "source": [
    "eng_sorted['English'][2]"
   ]
  },
  {
   "cell_type": "code",
   "execution_count": null,
   "metadata": {},
   "outputs": [],
   "source": [
    "eng_sorted['English'][3]"
   ]
  },
  {
   "cell_type": "code",
   "execution_count": null,
   "metadata": {},
   "outputs": [],
   "source": [
    "len(eng_sorted['English'][3].split(\" \"))"
   ]
  },
  {
   "cell_type": "code",
   "execution_count": null,
   "metadata": {},
   "outputs": [],
   "source": [
    "len('\"We will play the role of a hub for inter-Korean exchanges of performing arts and culture,\" said Kim Cheol-ho, 66, the new director of the National Theater of Korea, at an inaugural press conference held at a restaurant in Jongro-gu, Seoul on the 8th and he said, \"We can invite North Korean national art troupe for the festival that will be held in 2020 for the 70th anniversary of our foundation.\"                                                                                                                                                                                                                                                                                                                                                                                                                                                                                                                                                                                                                         '.split(\" \"))"
   ]
  },
  {
   "cell_type": "code",
   "execution_count": null,
   "metadata": {},
   "outputs": [],
   "source": [
    "eng_sorted[-30:]"
   ]
  },
  {
   "cell_type": "markdown",
   "metadata": {},
   "source": [
    "한글 데이터는 짧은 문장의 경우 띄어쓰기가 잘 안 이루어져 있음.\n",
    "영어 데이터는 긴 문장의 경우 띄어쓰기가 지나치게 많이 들어가 있음.  \n",
    "짧은 문장의 경우 검수 안된 문장들 . 혹은 x 등 많음."
   ]
  },
  {
   "cell_type": "markdown",
   "metadata": {},
   "source": [
    "## 4. 박스플롯 그려보기"
   ]
  },
  {
   "cell_type": "code",
   "execution_count": null,
   "metadata": {},
   "outputs": [],
   "source": [
    "print(\"한글 문장 중 가장 적은 단어 개수 가진 문장은 \", min(kor_word_cnt))\n",
    "print(\"한글 문장 중 가장 많은 단어 개수 가진 문장은 \", max(kor_word_cnt))\n",
    "print(\"영어 문장 중 가장 적은 단어 개수 가진 문장은 \", min(eng_word_cnt))\n",
    "print(\"영어 문장 중 가장 많은 단어 개수 가진 문장은 \", max(eng_word_cnt))"
   ]
  },
  {
   "cell_type": "code",
   "execution_count": null,
   "metadata": {},
   "outputs": [],
   "source": [
    "fig, ax = plt.subplots(figsize = (12,8))\n",
    "sns.boxplot(kor_word_cnt)\n",
    "plt.show()"
   ]
  },
  {
   "cell_type": "code",
   "execution_count": null,
   "metadata": {},
   "outputs": [],
   "source": [
    "fig, ax = plt.subplots(figsize = (12,8))\n",
    "sns.boxplot(eng_word_cnt)\n",
    "plt.show()"
   ]
  },
  {
   "cell_type": "markdown",
   "metadata": {},
   "source": [
    "## 5. 데이터 저장하기"
   ]
  },
  {
   "cell_type": "code",
   "execution_count": 26,
   "metadata": {},
   "outputs": [],
   "source": [
    "del data['Korean_word_count']\n",
    "del data['English_word_count']\n",
    "\n",
    "#data.to_csv(\"C:/Users/Soyoung Cho/Desktop/NMT Project/dataset/datalist_modified.csv\", encoding = 'utf-8-sig', index = False, mode = \"w\")"
   ]
  }
 ],
 "metadata": {
  "kernelspec": {
   "display_name": "Python 3",
   "language": "python",
   "name": "python3"
  },
  "language_info": {
   "codemirror_mode": {
    "name": "ipython",
    "version": 3
   },
   "file_extension": ".py",
   "mimetype": "text/x-python",
   "name": "python",
   "nbconvert_exporter": "python",
   "pygments_lexer": "ipython3",
   "version": "3.7.4"
  }
 },
 "nbformat": 4,
 "nbformat_minor": 2
}
